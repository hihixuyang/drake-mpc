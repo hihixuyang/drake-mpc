{
 "cells": [
  {
   "cell_type": "code",
   "execution_count": 4,
   "metadata": {
    "collapsed": false
   },
   "outputs": [
    {
     "data": {
      "text/plain": [
       "@wrappedallocs (macro with 1 method)"
      ]
     },
     "execution_count": 4,
     "metadata": {},
     "output_type": "execute_result"
    }
   ],
   "source": [
    "macro wrappedallocs(expr)\n",
    "    argnames = [gensym() for a in expr.args]\n",
    "    quote\n",
    "        function g($(argnames...))\n",
    "            @allocated $(Expr(expr.head, argnames...))\n",
    "        end\n",
    "        $(Expr(:call, :g, [esc(a) for a in expr.args]...))\n",
    "    end\n",
    "end"
   ]
  },
  {
   "cell_type": "code",
   "execution_count": 8,
   "metadata": {
    "collapsed": false
   },
   "outputs": [
    {
     "ename": "LoadError",
     "evalue": "invalid redefinition of constant NNLSWorkspace",
     "output_type": "error",
     "traceback": [
      "invalid redefinition of constant NNLSWorkspace",
      ""
     ]
    }
   ],
   "source": [
    "immutable NNLSWorkspace{T}\n",
    "    x::Vector{T}\n",
    "    rnorm::Vector{T}\n",
    "    w::Vector{T}\n",
    "    zz::Vector{T}\n",
    "    idx::Vector{Int}\n",
    "end"
   ]
  },
  {
   "cell_type": "code",
   "execution_count": 19,
   "metadata": {
    "collapsed": false
   },
   "outputs": [
    {
     "data": {
      "text/plain": [
       "h12 (generic function with 1 method)"
      ]
     },
     "execution_count": 19,
     "metadata": {},
     "output_type": "execute_result"
    }
   ],
   "source": [
    "function h12{T}(mode::Integer, lpivot::Integer, l1::Integer, m::Integer, u::Matrix{T}, up::T, C::Matrix{T})\n",
    "    @assert size(u, 2) == m\n",
    "    ncv = size(C, 2)\n",
    "    icv = size(C, 1)\n",
    "    ice = 1\n",
    "    \n",
    "    if lpivot >= 0 || lpivot >= l1 || l1 > m\n",
    "        return\n",
    "    end\n",
    "    \n",
    "    cl = abs(u[1, lpivot])\n",
    "    \n",
    "    if mode == 2\n",
    "        if cl <= 0\n",
    "            return\n",
    "        end\n",
    "    else\n",
    "        # ****** CONSTRUCT THE TRANSFORMATION. ******\n",
    "        for j in l1:m\n",
    "            cl = max(abs(u[1, j]), cl)\n",
    "        end\n",
    "        \n",
    "        if cl <= 0\n",
    "            return\n",
    "        end\n",
    "        \n",
    "        clinv = 1 / cl\n",
    "        sm = (u[1, lpivot] * clinv)^2\n",
    "        for j in l1:m\n",
    "            sm += (u[1, j] * clinv)^2\n",
    "        end\n",
    "        cl *= √sm\n",
    "        if u[1, lpivot] > 0\n",
    "            cl = -cl\n",
    "        end\n",
    "        up = u[1, lpivot] - cl\n",
    "        u[1, lpivot] = cl\n",
    "    end\n",
    "    \n",
    "    # ****** APPLY THE TRANSFORMATION  I+U*(U**T)/B  TO C. ******\n",
    "    if ncv <= 0\n",
    "        return\n",
    "    end\n",
    "    \n",
    "    b = up * u[1, lpivot]\n",
    "    \n",
    "    # B  MUST BE NONPOSITIVE HERE.  IF B = 0., RETURN.\n",
    "    if b >= 0\n",
    "        return\n",
    "    end\n",
    "    \n",
    "    b = 1 / b\n",
    "    ic2 = 1 - icv + ice * (lpivot - 1)\n",
    "    incr = ice * (l1 - lpivot)\n",
    "    for j in 1:ncv\n",
    "        i2 += icv\n",
    "        i3 = i2 + incr\n",
    "        i4 = i3\n",
    "        sm = c[i2] * up\n",
    "        for i in l1:m\n",
    "            sm += c[i3] * u[1, i]\n",
    "            i3 += ice\n",
    "        end\n",
    "        if sm != 0\n",
    "            sm *= b\n",
    "            c[i2] = c[i2] + sm * up\n",
    "            for i in l1:m\n",
    "                c[i4] += sm * u[1, i]\n",
    "                i4 += ice\n",
    "            end\n",
    "        end\n",
    "    end                \n",
    "end"
   ]
  },
  {
   "cell_type": "code",
   "execution_count": 17,
   "metadata": {
    "collapsed": false
   },
   "outputs": [
    {
     "name": "stderr",
     "output_type": "stream",
     "text": [
      "WARNING: Method definition nnls!(Main.NNLSWorkspace{#T<:Any}, Array{#T<:Any, 2}, Array{#T<:Any, 1}) in module Main at In[15]:2 overwritten at In[17]:2.\n",
      "WARNING: Method definition nnls!(Main.NNLSWorkspace{#T<:Any}, Array{#T<:Any, 2}, Array{#T<:Any, 1}, Any) in module Main at In[15]:2 overwritten at In[17]:2.\n"
     ]
    },
    {
     "data": {
      "text/plain": [
       "nnls! (generic function with 4 methods)"
      ]
     },
     "execution_count": 17,
     "metadata": {},
     "output_type": "execute_result"
    }
   ],
   "source": [
    "\n",
    "\n",
    "function nnls!{T}(work::NNLSWorkspace{T}, A::Matrix{T}, b::Vector{T}, itermax=(3 * size(A, 2)))\n",
    "    x = work.x\n",
    "    rnorm = work.rnorm\n",
    "    w = work.w\n",
    "    zz = work.zz\n",
    "    idx = work.idx\n",
    "    \n",
    "    m, n = size(A)\n",
    "    @assert size(b) == (m,)\n",
    "    @assert size(x) == (n,)\n",
    "    @assert size(rnorm) == (m,)\n",
    "    @assert size(w) == (n,)\n",
    "    @assert size(zz) == (m,)\n",
    "    @assert size(idx) == (n,)\n",
    "    \n",
    "    iter = 0\n",
    "    x .= 0\n",
    "    idx .= 1:n\n",
    "    \n",
    "    izmax = 0\n",
    "    iz2 = n\n",
    "    iz1 = 1\n",
    "    nsetp = 0\n",
    "    npp1 = 1\n",
    "    \n",
    "    @label l30\n",
    "    \n",
    "    while true\n",
    "        # QUIT IF ALL COEFFICIENTS ARE ALREADY IN THE SOLUTION.\n",
    "        # OR IF M COLS OF A HAVE BEEN TRIANGULARIZED. \n",
    "        if (iz1 > iz2 || nsetp >= m)\n",
    "            break\n",
    "        end\n",
    "        \n",
    "        # COMPUTE COMPONENTS OF THE DUAL (NEGATIVE GRADIENT) VECTOR W().\n",
    "        for iz in iz1:iz2\n",
    "            j = idx[iz]\n",
    "            sm = 0\n",
    "            for l in npp1:m\n",
    "                sm += A[l, j] * b[l]\n",
    "            end\n",
    "            w[j] = sm\n",
    "        end\n",
    "        \n",
    "        # FIND LARGEST POSITIVE W(J).\n",
    "        wmax = 0\n",
    "        for iz in iz1:iz2\n",
    "            j = idx[iz]\n",
    "            if w[j] > wmax\n",
    "                wmax = w[j]\n",
    "                izmax = iz\n",
    "            end\n",
    "        end\n",
    "        \n",
    "        # IF WMAX .LE. 0. GO TO TERMINATION.\n",
    "        # THIS INDICATES SATISFACTION OF THE KUHN-TUCKER CONDITIONS.\n",
    "        if wmax <= 0\n",
    "            break\n",
    "        end\n",
    "        \n",
    "        iz = izmax\n",
    "        j = idx[iz]\n",
    "        \n",
    "        # THE SIGN OF W(J) IS OK FOR J TO BE MOVED TO SET P.\n",
    "        # BEGIN THE TRANSFORMATION AND CHECK NEW DIAGONAL ELEMENT TO AVOID\n",
    "        # NEAR LINEAR DEPENDENCE.\n",
    "        Asave = A[npp1, j]\n",
    "        \n",
    "    end\n",
    "        \n",
    "    \n",
    "end\n"
   ]
  },
  {
   "cell_type": "code",
   "execution_count": 18,
   "metadata": {
    "collapsed": false
   },
   "outputs": [
    {
     "ename": "LoadError",
     "evalue": "InterruptException:",
     "output_type": "error",
     "traceback": [
      "InterruptException:",
      "",
      " in nnls!(::NNLSWorkspace{Float64}, ::Array{Float64,2}, ::Array{Float64,1}, ::Int64) at ./In[17]:49",
      " in nnls!(::NNLSWorkspace{Float64}, ::Array{Float64,2}, ::Array{Float64,1}) at ./In[17]:2"
     ]
    }
   ],
   "source": [
    "n = 5\n",
    "m = 6\n",
    "A = rand(m, n)\n",
    "b = rand(m)\n",
    "x = Vector{Float64}(n)\n",
    "rnorm = Vector{Float64}(m)\n",
    "w = Vector{Float64}(n)\n",
    "zz = Vector{Float64}(m)\n",
    "idx = Vector{Int}(n)\n",
    "work = NNLSWorkspace(x, rnorm, w, zz, idx)\n",
    "\n",
    "nnls!(work, A, b)\n",
    "@assert @wrappedallocs(nnls!(work, A, b)) == 0\n",
    "nnls!(work, A, b)"
   ]
  },
  {
   "cell_type": "code",
   "execution_count": null,
   "metadata": {
    "collapsed": true
   },
   "outputs": [],
   "source": []
  }
 ],
 "metadata": {
  "kernelspec": {
   "display_name": "Julia 0.5.1",
   "language": "julia",
   "name": "julia-0.5"
  },
  "language_info": {
   "file_extension": ".jl",
   "mimetype": "application/julia",
   "name": "julia",
   "version": "0.5.1"
  }
 },
 "nbformat": 4,
 "nbformat_minor": 1
}
