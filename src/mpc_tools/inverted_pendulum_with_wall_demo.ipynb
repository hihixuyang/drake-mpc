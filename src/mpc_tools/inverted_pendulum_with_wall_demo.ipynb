{
 "cells": [
  {
   "cell_type": "markdown",
   "metadata": {
    "deletable": true,
    "editable": true
   },
   "source": [
    "# Linear Inverted Pendulum with Wall, Hybrid MPC Demo"
   ]
  },
  {
   "cell_type": "markdown",
   "metadata": {
    "deletable": true,
    "editable": true
   },
   "source": [
    "This is a demo for the Model Predictive Control (MPC) package $\\texttt{mpc_tools}$."
   ]
  },
  {
   "cell_type": "code",
   "execution_count": 1,
   "metadata": {
    "collapsed": false,
    "deletable": true,
    "editable": true
   },
   "outputs": [],
   "source": [
    "%load_ext autoreload\n",
    "%autoreload 2\n",
    "#%pylab notebook"
   ]
  },
  {
   "cell_type": "code",
   "execution_count": 2,
   "metadata": {
    "collapsed": false,
    "deletable": true,
    "editable": true
   },
   "outputs": [],
   "source": [
    "import numpy as np\n",
    "import matplotlib.pyplot as plt\n",
    "from control import MPCHybridController\n",
    "from dynamical_systems import DTLinearSystem, DTAffineSystem, DTPWASystem, plot_input_sequence, plot_state_trajectory, plot_state_space_trajectory\n",
    "from geometry import Polytope"
   ]
  },
  {
   "cell_type": "markdown",
   "metadata": {
    "deletable": true,
    "editable": true
   },
   "source": [
    "We stabilize a linear inverted pendulum with mass $m$ and length $l$, subject to the gravity acceleration $g$. The pendulum is allowed to impact with an elastic wall (with stiffness $k$) placed at distance $d$ from the vertical line passing trough the hinge."
   ]
  },
  {
   "cell_type": "code",
   "execution_count": 3,
   "metadata": {
    "collapsed": true,
    "deletable": true,
    "editable": true
   },
   "outputs": [],
   "source": [
    "m = 1.\n",
    "l = 1.\n",
    "g = 10.\n",
    "k = 1000.\n",
    "d = .1\n",
    "t_s = .01"
   ]
  },
  {
   "cell_type": "markdown",
   "metadata": {
    "deletable": true,
    "editable": true
   },
   "source": [
    "We express the linearized dynamics in PieceWise Affine (PWA) form:\n",
    "\\begin{equation}\n",
    "\\dot x =\n",
    "\\begin{cases}\n",
    "A_1 x + B_1 u + c_1, \\quad \\text{if} \\quad (x, u) \\in \\mathcal D_1, \\\\\n",
    "A_2 x + B_2 u + c_2, \\quad \\text{if} \\quad (x, u) \\in \\mathcal D_2,\n",
    "\\end{cases}\n",
    "\\end{equation}\n",
    "\n",
    "with\n",
    "\n",
    "\\begin{equation}\n",
    "A_1 = \n",
    "\\begin{bmatrix}\n",
    "0 & 1 \\\\ g/l & 0\n",
    "\\end{bmatrix},\n",
    "\\quad\n",
    "B_1 = \n",
    "\\begin{bmatrix}\n",
    "0 \\\\ 1/(ml^2)\n",
    "\\end{bmatrix},\n",
    "\\quad\n",
    "c_1 = \n",
    "\\begin{bmatrix}\n",
    "0 \\\\ 0\n",
    "\\end{bmatrix},\n",
    "\\end{equation}\n",
    "\n",
    "\\begin{equation}\n",
    "\\mathcal D_1 =\n",
    "\\{ (x,u) \\ | \\ x_1 \\leq d/l, \\ x_{min} \\leq x \\leq x_{max}, \\ u_{min} \\leq u \\leq u_{max} \\},\n",
    "\\end{equation}\n",
    "\n",
    "\\begin{equation}\n",
    "A_2 = \n",
    "\\begin{bmatrix}\n",
    "0 & 1 \\\\ g/l - k/m & 0\n",
    "\\end{bmatrix},\n",
    "\\quad\n",
    "B_2 = \n",
    "\\begin{bmatrix}\n",
    "0 \\\\ 1/(ml^2)\n",
    "\\end{bmatrix},\n",
    "\\quad\n",
    "c_2 = \n",
    "\\begin{bmatrix}\n",
    "0 \\\\ kd/(ml)\n",
    "\\end{bmatrix},\n",
    "\\end{equation}\n",
    "\n",
    "\\begin{equation}\n",
    "\\mathcal D_2 =\n",
    "\\{ (x,u) \\ | \\ x_1 > d/l, \\ x_{min} \\leq x \\leq x_{max}, \\ u_{min} \\leq u \\leq u_{max} \\},\n",
    "\\end{equation}\n",
    "\n",
    "\n",
    "The discrete-time PWA system can be defined from its continuous-time representation setting a sampling time $t_s$ (the exact zero-order-hold discretization is used)."
   ]
  },
  {
   "cell_type": "code",
   "execution_count": 4,
   "metadata": {
    "collapsed": true,
    "deletable": true,
    "editable": true
   },
   "outputs": [],
   "source": [
    "A_1 = np.array([[0., 1.],[g/l, 0.]])\n",
    "B_1 = np.array([[0.],[1/(m*l**2.)]])\n",
    "c_1 = np.array([[0.],[0.]])\n",
    "sys_1 = DTAffineSystem.from_continuous(t_s, A_1, B_1, c_1)\n",
    "\n",
    "A_2 = np.array([[0., 1.],[g/l-k/m, 0.]])\n",
    "B_2 = B_1\n",
    "c_2 = np.array([[0.],[k*d/(m*l)]])\n",
    "sys_2 = DTAffineSystem.from_continuous(t_s, A_2, B_2, c_2)\n",
    "\n",
    "sys = [sys_1, sys_2]"
   ]
  },
  {
   "cell_type": "code",
   "execution_count": 5,
   "metadata": {
    "collapsed": false,
    "deletable": true,
    "editable": true
   },
   "outputs": [],
   "source": [
    "x_max_1 = np.array([[d/l], [1.5]])\n",
    "x_max_2 = np.array([[d/l*2.],[x_max_1[1,0]]])\n",
    "x_min_1 = -x_max_2\n",
    "x_min_2 = np.array([[x_max_1[0,0]], [x_min_1[1,0]]])\n",
    "\n",
    "X_1 = Polytope.from_bounds(x_max_1, x_min_1)\n",
    "X_1.assemble()\n",
    "X_2 = Polytope.from_bounds(x_max_2, x_min_2)\n",
    "X_2.assemble()\n",
    "X = [X_1, X_2]\n",
    "\n",
    "u_max = np.array([[4.]])\n",
    "u_min = -u_max\n",
    "\n",
    "U_1 = Polytope.from_bounds(u_max, u_min)\n",
    "U_1.assemble()\n",
    "U_2 = U_1\n",
    "U = [U_1, U_2]"
   ]
  },
  {
   "cell_type": "code",
   "execution_count": 6,
   "metadata": {
    "collapsed": true,
    "deletable": true,
    "editable": true
   },
   "outputs": [],
   "source": [
    "pwa_sys = DTPWASystem(sys, X, U)"
   ]
  },
  {
   "cell_type": "markdown",
   "metadata": {
    "deletable": true,
    "editable": true
   },
   "source": [
    "At each each step, the following optimal control is solved\n",
    "\\begin{align}\n",
    "\\min \\quad &\n",
    "\\sum_{k=0}^{N-1} (x_k^T Q x_k + u_k^T R u_k) + x_N^T P x_N \\\\\n",
    "\\text{subject to} \\quad &\n",
    "x_{k+1} =\n",
    "\\begin{cases}\n",
    "A_1 x_k + B_1 u_k + c_1, \\quad \\text{if} \\quad (x_k, u_k) \\in \\mathcal D_1, \\\\\n",
    "A_2 x_k + B_2 u_k + c_2, \\quad \\text{if} \\quad (x_k, u_k) \\in \\mathcal D_2,\n",
    "\\end{cases}, \\\\\n",
    "& (x_k, u_k) \\in \\mathcal D_1 \\cup \\mathcal D_2, \\quad k = 1,2,\\ldots,N-1, \\\\\n",
    "& x_N \\in \\mathcal X_N, \\\\\n",
    "& x_0 \\ \\text{given}, \\\\\n",
    "\\end{align}\n",
    "and the input $u_0$ is applied to the system."
   ]
  },
  {
   "cell_type": "code",
   "execution_count": 7,
   "metadata": {
    "collapsed": false,
    "deletable": true,
    "editable": true
   },
   "outputs": [],
   "source": [
    "N = 8\n",
    "Q = np.eye(A_1.shape[0])\n",
    "R = np.eye(B_1.shape[1])\n",
    "\n",
    "lin_sys_1 = DTLinearSystem.from_continuous(t_s, A_1, B_1)\n",
    "P, K = lin_sys_1.dare(Q, R)\n",
    "X_N = lin_sys_1.moas(K, X_1, U_1)\n",
    "\n",
    "\n",
    "controller = MPCHybridController(pwa_sys, N, Q, R, P, X_N)"
   ]
  },
  {
   "cell_type": "code",
   "execution_count": 8,
   "metadata": {
    "collapsed": false,
    "deletable": true,
    "editable": true
   },
   "outputs": [],
   "source": [
    "N_sim = 100\n",
    "x_0 = np.array([[-.199],[1.35]])\n",
    "u = []\n",
    "x = []\n",
    "x.append(x_0)\n",
    "for k in range(0, N_sim):\n",
    "    u.append(controller.feedback(x[k]))\n",
    "    x_next = pwa_sys.simulate(x[k], [u[k]])[0][1]\n",
    "    x.append(x_next)"
   ]
  },
  {
   "cell_type": "code",
   "execution_count": 9,
   "metadata": {
    "collapsed": false,
    "deletable": true,
    "editable": true
   },
   "outputs": [
    {
     "data": {
      "image/png": "[encoded data removed]",
      "text/plain": [
       "<matplotlib.figure.Figure at 0x10d099690>"
      ]
     },
     "metadata": {},
     "output_type": "display_data"
    },
    {
     "data": {
      "image/png": "[encoded data removed]",
      "text/plain": [
       "<matplotlib.figure.Figure at 0x10d099450>"
      ]
     },
     "metadata": {},
     "output_type": "display_data"
    }
   ],
   "source": [
    "plot_input_sequence(u, t_s, N_sim, u_max, u_min)\n",
    "plt.show()\n",
    "plot_state_trajectory(x, t_s, N_sim, x_max_2, x_min_1)\n",
    "plt.show()"
   ]
  },
  {
   "cell_type": "code",
   "execution_count": 10,
   "metadata": {
    "collapsed": false,
    "deletable": true,
    "editable": true,
    "scrolled": true
   },
   "outputs": [
    {
     "data": {
      "image/png": "[encoded data removed]",
      "text/plain": [
       "<matplotlib.figure.Figure at 0x10e028d90>"
      ]
     },
     "metadata": {},
     "output_type": "display_data"
    }
   ],
   "source": [
    "X_1.plot(facecolor='g')\n",
    "X_2.plot(facecolor='r')\n",
    "plot_state_space_trajectory(x, color='w')\n",
    "plt.show()"
   ]
  },
  {
   "cell_type": "code",
   "execution_count": 11,
   "metadata": {
    "collapsed": false,
    "deletable": true,
    "editable": true,
    "scrolled": false
   },
   "outputs": [
    {
     "name": "stdout",
     "output_type": "stream",
     "text": [
      "[0, 0, 0, 0, 0, 0, 0, 0]\n",
      "Feasible set computed in 0.372303009033 s\n",
      "[0, 0, 0, 0, 0, 0, 0, 1]\n",
      "Feasible set computed in 0.0791039466858 s\n",
      "[0, 0, 0, 0, 0, 0, 1, 0]\n",
      "Feasible set computed in 0.10217499733 s\n",
      "[0, 0, 0, 0, 0, 1, 0, 0]\n",
      "Feasible set computed in 0.114741802216 s\n",
      "[0, 0, 0, 0, 1, 0, 0, 0]\n",
      "Feasible set computed in 0.135444879532 s\n",
      "[0, 0, 0, 1, 0, 0, 0, 0]\n",
      "Feasible set computed in 0.153648853302 s\n",
      "[0, 0, 1, 0, 0, 0, 0, 0]\n",
      "Feasible set computed in 0.200871944427 s\n",
      "[0, 1, 0, 0, 0, 0, 0, 0]\n",
      "Feasible set computed in 0.267329931259 s\n",
      "[1, 0, 0, 0, 0, 0, 0, 0]\n",
      "Feasible set computed in 0.289832115173 s\n",
      "[0, 0, 0, 0, 0, 0, 1, 1]\n",
      "Feasible set computed in 0.0616981983185 s\n",
      "[0, 0, 0, 0, 0, 1, 1, 0]\n",
      "Feasible set computed in 0.100321054459 s\n",
      "[0, 0, 0, 0, 1, 1, 0, 0]\n",
      "Feasible set computed in 0.145962953568 s\n",
      "[0, 0, 0, 1, 1, 0, 0, 0]\n",
      "Feasible set computed in 0.148736953735 s\n",
      "[0, 0, 1, 1, 0, 0, 0, 0]\n",
      "Feasible set computed in 0.198886871338 s\n",
      "[0, 1, 1, 0, 0, 0, 0, 0]\n",
      "Feasible set computed in 0.228771924973 s\n",
      "[1, 1, 0, 0, 0, 0, 0, 0]\n",
      "Feasible set computed in 0.239009141922 s\n",
      "[0, 0, 0, 0, 0, 1, 1, 1]\n",
      "Feasible set computed in 0.0571081638336 s\n",
      "[0, 0, 0, 0, 1, 1, 1, 0]\n",
      "Feasible set computed in 0.0732111930847 s\n",
      "[0, 0, 0, 1, 1, 1, 0, 0]\n",
      "Feasible set computed in 0.118490934372 s\n",
      "[0, 0, 1, 1, 1, 0, 0, 0]\n",
      "Feasible set computed in 0.137502193451 s\n",
      "[0, 1, 1, 1, 0, 0, 0, 0]\n",
      "Feasible set computed in 0.16357588768 s\n",
      "[1, 1, 1, 0, 0, 0, 0, 0]\n",
      "Feasible set computed in 0.184509038925 s\n",
      "[0, 0, 0, 0, 1, 1, 1, 1]\n",
      "Feasible set computed in 0.0656769275665 s\n",
      "[0, 0, 0, 1, 1, 1, 1, 0]\n",
      "Feasible set computed in 0.0849220752716 s\n",
      "[0, 0, 1, 1, 1, 1, 0, 0]\n",
      "Feasible set computed in 0.10350394249 s\n",
      "[0, 1, 1, 1, 1, 0, 0, 0]\n",
      "Feasible set computed in 0.133200883865 s\n",
      "[1, 1, 1, 1, 0, 0, 0, 0]\n",
      "Feasible set computed in 0.204183101654 s\n",
      "[0, 0, 0, 1, 1, 1, 1, 1]\n",
      "Feasible set computed in 0.0771729946136 s\n",
      "[0, 0, 1, 1, 1, 1, 1, 0]\n",
      "Feasible set computed in 0.0945398807526 s\n",
      "[0, 1, 1, 1, 1, 1, 0, 0]\n",
      "Feasible set computed in 0.135001897812 s\n",
      "[1, 1, 1, 1, 1, 0, 0, 0]\n",
      "Feasible set computed in 0.153636932373 s\n",
      "[0, 0, 1, 1, 1, 1, 1, 1]\n",
      "Feasible set computed in 0.0805568695068 s\n",
      "[0, 1, 1, 1, 1, 1, 1, 0]\n",
      "Feasible set computed in 0.0938150882721 s\n",
      "[1, 1, 1, 1, 1, 1, 0, 0]\n",
      "Feasible set computed in 0.1087911129 s\n",
      "[0, 1, 1, 1, 1, 1, 1, 1]\n",
      "Feasible set computed in 0.0802910327911 s\n",
      "[1, 1, 1, 1, 1, 1, 1, 0]\n",
      "Feasible set computed in 0.0937151908875 s\n",
      "[1, 1, 1, 1, 1, 1, 1, 1]\n",
      "Feasible set computed in 0.0907161235809 s\n"
     ]
    },
    {
     "data": {
      "image/png": "[encoded data removed]",
      "text/plain": [
       "<matplotlib.figure.Figure at 0x1027f0e10>"
      ]
     },
     "metadata": {},
     "output_type": "display_data"
    },
    {
     "name": "stdout",
     "output_type": "stream",
     "text": [
      "Optimal active set for x_0 = [-0.199  1.35 ] is [0, 0, 0, 0, 0, 0, 0, 0]\n"
     ]
    }
   ],
   "source": [
    "\n",
    "alpha = .3\n",
    "ss = [0]*N\n",
    "print ss\n",
    "controller.plot_feasible_set(ss, facecolor=np.random.rand(3,1),alpha=alpha)\n",
    "\n",
    "for len_contact in range(1,N+1):\n",
    "    ss = [0]*(N-len_contact) + [1]*len_contact\n",
    "    col = np.random.rand(3,1)\n",
    "    for i in range(N-len_contact+1):\n",
    "        print ss\n",
    "        controller.plot_feasible_set(ss, facecolor=np.random.rand(3,1),alpha=alpha)\n",
    "        del ss[0]\n",
    "        ss += [0]\n",
    "plt.show()\n",
    "\n",
    "u = controller.feedforward(x_0)\n",
    "act_set = pwa_sys.simulate(x_0, u)[1]\n",
    "\n",
    "print('Optimal active set for x_0 = ' + str(x_0.flatten()) + ' is ' + str(act_set))"
   ]
  },
  {
   "cell_type": "code",
   "execution_count": null,
   "metadata": {
    "collapsed": true
   },
   "outputs": [],
   "source": []
  }
 ],
 "metadata": {
  "celltoolbar": "Raw Cell Format",
  "kernelspec": {
   "display_name": "Python 2",
   "language": "python",
   "name": "python2"
  },
  "language_info": {
   "codemirror_mode": {
    "name": "ipython",
    "version": 2
   },
   "file_extension": ".py",
   "mimetype": "text/x-python",
   "name": "python",
   "nbconvert_exporter": "python",
   "pygments_lexer": "ipython2",
   "version": "2.7.13"
  }
 },
 "nbformat": 4,
 "nbformat_minor": 2
}
