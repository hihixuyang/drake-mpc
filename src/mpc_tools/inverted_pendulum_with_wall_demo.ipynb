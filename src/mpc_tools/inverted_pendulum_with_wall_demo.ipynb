{
 "cells": [
  {
   "cell_type": "markdown",
   "metadata": {
    "deletable": true,
    "editable": true
   },
   "source": [
    "# Linear Inverted Pendulum with Wall, Hybrid MPC Demo"
   ]
  },
  {
   "cell_type": "markdown",
   "metadata": {
    "deletable": true,
    "editable": true
   },
   "source": [
    "This is a demo for the Model Predictive Control (MPC) package $\\texttt{mpc_tools}$."
   ]
  },
  {
   "cell_type": "code",
   "execution_count": 1,
   "metadata": {
    "collapsed": false,
    "deletable": true,
    "editable": true
   },
   "outputs": [],
   "source": [
    "%load_ext autoreload\n",
    "%autoreload 2\n",
    "#%pylab notebook"
   ]
  },
  {
   "cell_type": "code",
   "execution_count": 2,
   "metadata": {
    "collapsed": false,
    "deletable": true,
    "editable": true
   },
   "outputs": [],
   "source": [
    "import numpy as np\n",
    "import matplotlib.pyplot as plt\n",
    "import dynamical_systems as ds\n",
    "import plot as mpc_plt\n",
    "from control import MPCHybridController\n",
    "from geometry import Polytope"
   ]
  },
  {
   "cell_type": "markdown",
   "metadata": {
    "deletable": true,
    "editable": true
   },
   "source": [
    "We stabilize a linear inverted pendulum with mass $m$ and length $l$, subject to the gravity acceleration $g$. The pendulum is allowed to impact with an elastic wall (with stiffness $k$) placed at distance $d$ from the vertical line passing trough the hinge."
   ]
  },
  {
   "cell_type": "code",
   "execution_count": 3,
   "metadata": {
    "collapsed": true,
    "deletable": true,
    "editable": true
   },
   "outputs": [],
   "source": [
    "m = 1.\n",
    "l = 1.\n",
    "g = 10.\n",
    "k = 10000.\n",
    "d = .1\n",
    "t_s = .01"
   ]
  },
  {
   "cell_type": "markdown",
   "metadata": {
    "deletable": true,
    "editable": true
   },
   "source": [
    "We express the linearized dynamics in PieceWise Affine (PWA) form:\n",
    "\\begin{equation}\n",
    "\\dot x =\n",
    "\\begin{cases}\n",
    "A_1 x + B_1 u + c_1, \\quad \\text{if} \\quad (x, u) \\in \\mathcal D_1, \\\\\n",
    "A_2 x + B_2 u + c_2, \\quad \\text{if} \\quad (x, u) \\in \\mathcal D_2,\n",
    "\\end{cases}\n",
    "\\end{equation}\n",
    "\n",
    "with\n",
    "\n",
    "\\begin{equation}\n",
    "A_1 = \n",
    "\\begin{bmatrix}\n",
    "0 & 1 \\\\ g/l & 0\n",
    "\\end{bmatrix},\n",
    "\\quad\n",
    "B_1 = \n",
    "\\begin{bmatrix}\n",
    "0 \\\\ 1/(ml^2)\n",
    "\\end{bmatrix},\n",
    "\\quad\n",
    "c_1 = \n",
    "\\begin{bmatrix}\n",
    "0 \\\\ 0\n",
    "\\end{bmatrix},\n",
    "\\end{equation}\n",
    "\n",
    "\\begin{equation}\n",
    "\\mathcal D_1 =\n",
    "\\{ (x,u) \\ | \\ x_1 \\leq d/l, \\ x_{min} \\leq x \\leq x_{max}, \\ u_{min} \\leq u \\leq u_{max} \\},\n",
    "\\end{equation}\n",
    "\n",
    "\\begin{equation}\n",
    "A_2 = \n",
    "\\begin{bmatrix}\n",
    "0 & 1 \\\\ g/l - k/m & 0\n",
    "\\end{bmatrix},\n",
    "\\quad\n",
    "B_2 = \n",
    "\\begin{bmatrix}\n",
    "0 \\\\ 1/(ml^2)\n",
    "\\end{bmatrix},\n",
    "\\quad\n",
    "c_2 = \n",
    "\\begin{bmatrix}\n",
    "0 \\\\ kd/(ml)\n",
    "\\end{bmatrix},\n",
    "\\end{equation}\n",
    "\n",
    "\\begin{equation}\n",
    "\\mathcal D_2 =\n",
    "\\{ (x,u) \\ | \\ x_1 > d/l, \\ x_{min} \\leq x \\leq x_{max}, \\ u_{min} \\leq u \\leq u_{max} \\},\n",
    "\\end{equation}\n",
    "\n",
    "\n",
    "The discrete-time PWA system can be defined from its continuous-time representation setting a sampling time $t_s$ (the exact zero-order-hold discretization is used)."
   ]
  },
  {
   "cell_type": "code",
   "execution_count": 4,
   "metadata": {
    "collapsed": false,
    "deletable": true,
    "editable": true
   },
   "outputs": [],
   "source": [
    "A_1 = np.array([[0., 1.],[g/l, 0.]])\n",
    "B_1 = np.array([[0.],[1/(m*l**2.)]])\n",
    "c_1 = np.array([[0.],[0.]])\n",
    "sys_1 = ds.DTAffineSystem.from_continuous(A_1, B_1, c_1, t_s)\n",
    "\n",
    "A_2 = np.array([[0., 1.],[g/l-k/m, 0.]])\n",
    "B_2 = B_1\n",
    "c_2 = np.array([[0.],[k*d/(m*l)]])\n",
    "sys_2 = ds.DTAffineSystem.from_continuous(A_2, B_2, c_2, t_s)\n",
    "\n",
    "sys = [sys_1, sys_2]"
   ]
  },
  {
   "cell_type": "code",
   "execution_count": 5,
   "metadata": {
    "collapsed": false,
    "deletable": true,
    "editable": true
   },
   "outputs": [],
   "source": [
    "x_max_1 = np.array([[d/l], [1.5]])\n",
    "x_max_2 = np.array([[d/l*2.],[x_max_1[1,0]]])\n",
    "x_min_1 = -x_max_2\n",
    "x_min_2 = np.array([[x_max_1[0,0]], [x_min_1[1,0]]])\n",
    "\n",
    "X_1 = Polytope.from_bounds(x_max_1, x_min_1)\n",
    "X_1.assemble()\n",
    "X_2 = Polytope.from_bounds(x_max_2, x_min_2)\n",
    "X_2.assemble()\n",
    "X = [X_1, X_2]\n",
    "\n",
    "u_max = np.array([[4.]])\n",
    "u_min = -u_max\n",
    "\n",
    "U_1 = Polytope.from_bounds(u_max, u_min)\n",
    "U_1.assemble()\n",
    "U_2 = U_1\n",
    "U = [U_1, U_2]"
   ]
  },
  {
   "cell_type": "code",
   "execution_count": 6,
   "metadata": {
    "collapsed": true,
    "deletable": true,
    "editable": true
   },
   "outputs": [],
   "source": [
    "pwa_sys = ds.DTPWASystem(sys, X, U)"
   ]
  },
  {
   "cell_type": "markdown",
   "metadata": {
    "deletable": true,
    "editable": true
   },
   "source": [
    "At each each step, the following optimal control is solved\n",
    "\\begin{align}\n",
    "\\min \\quad &\n",
    "\\sum_{k=0}^{N-1} (x_k^T Q x_k + u_k^T R u_k) + x_N^T P x_N \\\\\n",
    "\\text{subject to} \\quad &\n",
    "x_{k+1} =\n",
    "\\begin{cases}\n",
    "A_1 x_k + B_1 u_k + c_1, \\quad \\text{if} \\quad (x_k, u_k) \\in \\mathcal D_1, \\\\\n",
    "A_2 x_k + B_2 u_k + c_2, \\quad \\text{if} \\quad (x_k, u_k) \\in \\mathcal D_2,\n",
    "\\end{cases}, \\\\\n",
    "& (x_k, u_k) \\in \\mathcal D_1 \\cup \\mathcal D_2, \\quad k = 1,2,\\ldots,N-1, \\\\\n",
    "& x_N \\in \\mathcal X_N, \\\\\n",
    "& x_0 \\ \\text{given}, \\\\\n",
    "\\end{align}\n",
    "and the input $u_0$ is applied to the system."
   ]
  },
  {
   "cell_type": "code",
   "execution_count": 7,
   "metadata": {
    "collapsed": false,
    "deletable": true,
    "editable": true
   },
   "outputs": [],
   "source": [
    "N = 10\n",
    "Q = np.eye(A_1.shape[0])\n",
    "R = np.eye(B_1.shape[1])\n",
    "objective_norm = 'two'"
   ]
  },
  {
   "cell_type": "code",
   "execution_count": 8,
   "metadata": {
    "collapsed": true,
    "deletable": true,
    "editable": true
   },
   "outputs": [],
   "source": [
    "lin_sys_1 = ds.DTLinearSystem.from_continuous(A_1, B_1, t_s)\n",
    "P, K = ds.dare(lin_sys_1.A, lin_sys_1.B, Q, R)\n",
    "X_N = ds.moas_closed_loop(lin_sys_1.A, lin_sys_1.B, K, X_1, U_1)"
   ]
  },
  {
   "cell_type": "code",
   "execution_count": 9,
   "metadata": {
    "collapsed": false,
    "deletable": true,
    "editable": true
   },
   "outputs": [],
   "source": [
    "controller = MPCHybridController(pwa_sys, N, objective_norm, Q, R, P, X_N)"
   ]
  },
  {
   "cell_type": "code",
   "execution_count": 10,
   "metadata": {
    "collapsed": false,
    "deletable": true,
    "editable": true
   },
   "outputs": [],
   "source": [
    "N_sim = 100\n",
    "x_0 = np.array([[.05],[1.]])\n",
    "u = []\n",
    "x = []\n",
    "x.append(x_0)\n",
    "for k in range(N_sim):\n",
    "    u.append(controller.feedback(x[k]))\n",
    "    x_next = pwa_sys.simulate(x[k], [u[k]])[0][1]\n",
    "    x.append(x_next)"
   ]
  },
  {
   "cell_type": "code",
   "execution_count": 11,
   "metadata": {
    "collapsed": false,
    "deletable": true,
    "editable": true
   },
   "outputs": [
    {
     "data": {
      "image/png": "[encoded data removed]",
      "text/plain": [
       "<matplotlib.figure.Figure at 0x1178bacd0>"
      ]
     },
     "metadata": {},
     "output_type": "display_data"
    },
    {
     "data": {
      "image/png": "[encoded data removed]",
      "text/plain": [
       "<matplotlib.figure.Figure at 0x118505ed0>"
      ]
     },
     "metadata": {},
     "output_type": "display_data"
    }
   ],
   "source": [
    "mpc_plt.input_sequence(u, t_s, N_sim, (u_max, u_min))\n",
    "plt.show()\n",
    "mpc_plt.state_trajectory(x, t_s, N_sim, (x_max_2, x_min_2, x_min_1))\n",
    "plt.show()"
   ]
  },
  {
   "cell_type": "code",
   "execution_count": 12,
   "metadata": {
    "collapsed": false,
    "deletable": true,
    "editable": true,
    "scrolled": true
   },
   "outputs": [
    {
     "data": {
      "image/png": "[encoded data removed]",
      "text/plain": [
       "<matplotlib.figure.Figure at 0x118822e90>"
      ]
     },
     "metadata": {},
     "output_type": "display_data"
    }
   ],
   "source": [
    "X_1.plot(facecolor='g')\n",
    "X_2.plot(facecolor='r')\n",
    "mpc_plt.state_space_trajectory(x, color='w')\n",
    "plt.show()"
   ]
  },
  {
   "cell_type": "code",
   "execution_count": 13,
   "metadata": {
    "collapsed": false
   },
   "outputs": [
    {
     "name": "stdout",
     "output_type": "stream",
     "text": [
      "Computing critical region for the active set []\n",
      "Computing critical region for the active set [0]\n",
      "Computing critical region for the active set [1]\n",
      "Computing critical region for the active set [31]\n",
      "Computing critical region for the active set [34]\n",
      "Computing critical region for the active set [0, 2]\n",
      "Computing critical region for the active set [0, 31]\n",
      "Computing critical region for the active set [0, 34]\n",
      "Computing critical region for the active set [1, 24]\n",
      "Computing critical region for the active set [1, 26]\n",
      "Computing critical region for the active set [1, 28]\n",
      "Computing critical region for the active set [1, 31]\n",
      "Computing critical region for the active set [1, 34]\n",
      "Computing critical region for the active set [1, 36]\n"
     ]
    },
    {
     "name": "stderr",
     "output_type": "stream",
     "text": [
      "/usr/local/lib/python2.7/site-packages/numpy/linalg/linalg.py:1457: RuntimeWarning: divide by zero encountered in true_divide\n",
      "  return s[..., 0]/s[..., -1]\n"
     ]
    },
    {
     "name": "stdout",
     "output_type": "stream",
     "text": [
      "LICQ does not hold for the active set [20, 31]\n",
      "    unfeasible critical region detected\n",
      "Computing critical region for the active set [22, 31]\n",
      "Computing critical region for the active set [24, 31]\n",
      "LICQ does not hold for the active set [21, 34]\n",
      "    unfeasible critical region detected\n",
      "Computing critical region for the active set [23, 34]\n",
      "Computing critical region for the active set [25, 34]\n",
      "Computing critical region for the active set [27, 34]\n",
      "Computing critical region for the active set [29, 34]\n",
      "Computing critical region for the active set [0, 2, 4]\n",
      "Computing critical region for the active set [0, 2, 29]\n",
      "Computing critical region for the active set [0, 2, 31]\n",
      "Computing critical region for the active set [0, 2, 34]\n",
      "LICQ does not hold for the active set [0, 20, 31]\n",
      "    unfeasible critical region detected\n",
      "Computing critical region for the active set [0, 29, 34]\n",
      "LICQ does not hold for the active set [1, 3, 24]\n",
      "    unfeasible critical region detected\n",
      "LICQ does not hold for the active set [1, 24, 26]\n",
      "    unfeasible critical region detected\n",
      "Computing critical region for the active set [1, 24, 36]\n",
      "Computing critical region for the active set [1, 3, 26]\n",
      "Computing critical region for the active set [1, 26, 28]\n",
      "Computing critical region for the active set [1, 26, 36]\n",
      "Computing critical region for the active set [1, 3, 28]\n",
      "Computing critical region for the active set [1, 28, 34]\n",
      "Computing critical region for the active set [1, 24, 31]\n",
      "Computing critical region for the active set [1, 31, 36]\n",
      "Computing critical region for the active set [1, 3, 34]\n",
      "LICQ does not hold for the active set [1, 21, 34]\n",
      "    unfeasible critical region detected\n",
      "LICQ does not hold for the active set [1, 22, 31]\n",
      "    unfeasible critical region detected\n",
      "LICQ does not hold for the active set [20, 22, 31]\n",
      "    unfeasible critical region detected\n",
      "Computing critical region for the active set [22, 24, 31]\n",
      "LICQ does not hold for the active set [21, 23, 34]\n",
      "    unfeasible critical region detected\n",
      "Computing critical region for the active set [23, 25, 34]\n",
      "Computing critical region for the active set [25, 27, 34]\n",
      "Computing critical region for the active set [27, 29, 34]\n",
      "Computing critical region for the active set [0, 2, 4, 29]\n",
      "Computing critical region for the active set [0, 2, 4, 31]\n",
      "Computing critical region for the active set [0, 29]\n",
      "Computing critical region for the active set [0, 2, 27, 29]\n",
      "Computing critical region for the active set [0, 2, 29, 31]\n",
      "Computing critical region for the active set [0, 2, 29, 34]\n",
      "LICQ does not hold for the active set [0, 2, 20, 31]\n",
      "    unfeasible critical region detected\n",
      "Computing critical region for the active set [0, 27, 29, 34]\n",
      "LICQ does not hold for the active set [1, 3, 24, 36]\n",
      "    unfeasible critical region detected\n",
      "LICQ does not hold for the active set [1, 24, 31, 36]\n",
      "    unfeasible critical region detected\n",
      "LICQ does not hold for the active set [1, 3, 5, 26]\n",
      "    unfeasible critical region detected\n",
      "LICQ does not hold for the active set [1, 3, 26, 28]\n",
      "    unfeasible critical region detected\n",
      "Computing critical region for the active set [1, 3, 26, 36]\n",
      "LICQ does not hold for the active set [1, 24, 26, 36]\n",
      "    unfeasible critical region detected\n",
      "Computing critical region for the active set [1, 3, 5, 28]\n",
      "Computing critical region for the active set [1, 3, 28, 34]\n",
      "LICQ does not hold for the active set [1, 3, 24, 31]\n",
      "    unfeasible critical region detected\n",
      "LICQ does not hold for the active set [1, 22, 24, 31]\n",
      "    unfeasible critical region detected\n",
      "Computing critical region for the active set [1, 3, 5, 34]\n",
      "LICQ does not hold for the active set [1, 3, 21, 34]\n",
      "    unfeasible critical region detected\n",
      "LICQ does not hold for the active set [21, 23, 25, 34]\n",
      "    unfeasible critical region detected\n",
      "Computing critical region for the active set [23, 25, 27, 34]\n",
      "Computing critical region for the active set [25, 27, 29, 34]\n",
      "Computing critical region for the active set [0, 2, 4, 29, 31]\n",
      "Computing critical region for the active set [0, 2, 4, 6, 31]\n",
      "LICQ does not hold for the active set [0, 2, 4, 20, 31]\n",
      "    unfeasible critical region detected\n",
      "Computing critical region for the active set [0, 2, 4, 30, 31]\n",
      "Computing critical region for the active set [0, 27, 29]\n",
      "Computing critical region for the active set [0, 2, 27, 29, 31]\n",
      "Computing critical region for the active set [0, 2, 29, 30, 31]\n",
      "Computing critical region for the active set [0, 25, 27, 29, 34]\n",
      "LICQ does not hold for the active set [1, 3, 5, 26, 36]\n",
      "    unfeasible critical region detected\n",
      "LICQ does not hold for the active set [1, 3, 24, 26, 36]\n",
      "    unfeasible critical region detected\n",
      "LICQ does not hold for the active set [1, 3, 26, 31, 36]\n",
      "    unfeasible critical region detected\n",
      "LICQ does not hold for the active set [1, 3, 5, 7, 28]\n",
      "    unfeasible critical region detected\n",
      "LICQ does not hold for the active set [1, 3, 5, 26, 28]\n",
      "    unfeasible critical region detected\n",
      "Computing critical region for the active set [1, 3, 5, 28, 34]\n",
      "Computing critical region for the active set [1, 3, 5, 28, 36]\n",
      "Computing critical region for the active set [1, 3, 5, 7, 34]\n",
      "LICQ does not hold for the active set [1, 3, 5, 21, 34]\n",
      "    unfeasible critical region detected\n",
      "LICQ does not hold for the active set [21, 23, 25, 27, 34]\n",
      "    unfeasible critical region detected\n",
      "Computing critical region for the active set [23, 25, 27, 29, 34]\n",
      "Computing critical region for the active set [25, 27, 29]\n",
      "LICQ does not hold for the active set [0, 2, 4, 29, 30, 31]\n",
      "    unfeasible critical region detected\n",
      "LICQ does not hold for the active set [0, 2, 4, 6, 8, 31]\n",
      "    unfeasible critical region detected\n",
      "LICQ does not hold for the active set [0, 2, 4, 6, 20, 31]\n",
      "    unfeasible critical region detected\n",
      "LICQ does not hold for the active set [0, 2, 4, 6, 30, 31]\n",
      "    unfeasible critical region detected\n",
      "Computing critical region for the active set [0, 25, 27, 29]\n",
      "Computing critical region for the active set [0, 27, 29, 31]\n",
      "LICQ does not hold for the active set [0, 2, 27, 29, 30, 31]\n",
      "    unfeasible critical region detected\n",
      "LICQ does not hold for the active set [1, 3, 5, 7, 28, 34]\n",
      "    unfeasible critical region detected\n",
      "LICQ does not hold for the active set [1, 3, 5, 7, 28, 36]\n",
      "    unfeasible critical region detected\n",
      "LICQ does not hold for the active set [1, 3, 5, 26, 28, 36]\n",
      "    unfeasible critical region detected\n",
      "LICQ does not hold for the active set [1, 3, 5, 28, 31, 36]\n",
      "    unfeasible critical region detected\n",
      "Computing critical region for the active set [1, 3, 5, 7, 12, 34]\n",
      "LICQ does not hold for the active set [1, 3, 5, 7, 21, 34]\n",
      "    unfeasible critical region detected\n",
      "LICQ does not hold for the active set [21, 23, 25, 27, 29, 34]\n",
      "    unfeasible critical region detected\n",
      "Computing critical region for the active set [23, 25, 27, 29]\n",
      "Computing critical region for the active set [25, 27, 29, 31]\n",
      "Computing critical region for the active set [0, 25, 27, 29, 31]\n",
      "Computing critical region for the active set [0, 27, 29, 30, 31]\n",
      "Computing critical region for the active set [1, 3, 5, 7, 10, 12, 34]\n",
      "Computing critical region for the active set [1, 3, 5, 7, 12, 14, 34]\n",
      "LICQ does not hold for the active set [1, 3, 5, 7, 12, 21, 34]\n",
      "    unfeasible critical region detected\n",
      "LICQ does not hold for the active set [1, 3, 5, 7, 12, 28, 34]\n",
      "    unfeasible critical region detected\n",
      "LICQ does not hold for the active set [21, 23, 25, 27, 29]\n",
      "    unfeasible critical region detected\n",
      "Computing critical region for the active set [23, 25, 27, 29, 31]\n",
      "Computing critical region for the active set [25, 27, 29, 30, 31]\n",
      "LICQ does not hold for the active set [0, 25, 27, 29, 30, 31]\n",
      "    unfeasible critical region detected\n",
      "Computing critical region for the active set [1, 3, 5, 7, 10, 12, 14, 34]\n",
      "LICQ does not hold for the active set [1, 3, 5, 7, 10, 12, 28, 34]\n",
      "    unfeasible critical region detected\n",
      "Computing critical region for the active set [1, 3, 5, 7, 9, 12, 14, 34]\n",
      "LICQ does not hold for the active set [1, 3, 5, 7, 12, 14, 21, 34]\n",
      "    unfeasible critical region detected\n",
      "LICQ does not hold for the active set [21, 23, 25, 27, 29, 31]\n",
      "    unfeasible critical region detected\n",
      "LICQ does not hold for the active set [23, 25, 27, 29, 30, 31]\n",
      "    unfeasible critical region detected\n",
      "LICQ does not hold for the active set [1, 3, 5, 7, 9, 10, 12, 14, 34]\n",
      "    unfeasible critical region detected\n",
      "LICQ does not hold for the active set [1, 3, 5, 7, 10, 12, 14, 28, 34]\n",
      "    unfeasible critical region detected\n",
      "LICQ does not hold for the active set [1, 3, 5, 7, 9, 12, 14, 21, 34]\n",
      "    unfeasible critical region detected\n",
      "\n",
      "Explicit solution computed in 1.30957102776 s:\n",
      "parameter space partitioned in 76 critical regions.\n"
     ]
    }
   ],
   "source": [
    "from control import MPCExplicitController\n",
    "ss = controller.feedforward(x_0)[2]\n",
    "prog = controller.condense_program(ss)\n",
    "explicit_controller = MPCExplicitController(prog)"
   ]
  },
  {
   "cell_type": "code",
   "execution_count": 14,
   "metadata": {
    "collapsed": false
   },
   "outputs": [
    {
     "data": {
      "image/png": "[encoded data removed]",
      "text/plain": [
       "<matplotlib.figure.Figure at 0x118b94710>"
      ]
     },
     "metadata": {},
     "output_type": "display_data"
    }
   ],
   "source": [
    "mpc_plt.state_partition(explicit_controller)\n",
    "plt.show()"
   ]
  },
  {
   "cell_type": "markdown",
   "metadata": {
    "collapsed": false,
    "deletable": true,
    "editable": true
   },
   "source": [
    "\n",
    "alpha = .3\n",
    "ss = [0]*N\n",
    "print ss\n",
    "controller.plot_feasible_set(ss, facecolor=np.random.rand(3,1),alpha=alpha)\n",
    "\n",
    "for len_contact in range(1,N+1):\n",
    "    ss = [0]*(N-len_contact) + [1]*len_contact\n",
    "    col = np.random.rand(3,1)\n",
    "    for i in range(N-len_contact+1):\n",
    "        print ss\n",
    "        controller.plot_feasible_set(ss, facecolor=np.random.rand(3,1),alpha=alpha)\n",
    "        del ss[0]\n",
    "        ss += [0]\n",
    "plt.show()\n",
    "\n",
    "u = controller.feedforward(x_0)\n",
    "act_set = pwa_sys.simulate(x_0, u)[1]\n",
    "\n",
    "print('Optimal active set for x_0 = ' + str(x_0.flatten()) + ' is ' + str(act_set))"
   ]
  },
  {
   "cell_type": "markdown",
   "metadata": {
    "collapsed": false,
    "deletable": true,
    "editable": true
   },
   "source": [
    "nf = 30\n",
    "nv = 10\n",
    "A = np.random.randn(nf,nv);\n",
    "b = np.random.rand(nf,1)\n",
    "projection_dimensions = [0,1,2,3,4]"
   ]
  },
  {
   "cell_type": "markdown",
   "metadata": {
    "collapsed": false,
    "deletable": true,
    "editable": true,
    "scrolled": true
   },
   "source": [
    "import time\n",
    "tic = time.time()\n",
    "p = Polytope(A,b)\n",
    "p.assemble()\n",
    "print time.time() - tic\n",
    "#p.plot()\n",
    "#plt.show()"
   ]
  },
  {
   "cell_type": "markdown",
   "metadata": {
    "collapsed": false,
    "deletable": true,
    "editable": true
   },
   "source": [
    "\n",
    "#tic = time.time()\n",
    "#p0 = p.orthogonal_projection(projection_dimensions)\n",
    "#print time.time() - tic\n",
    "#p0.plot()\n",
    "#plt.show()\n",
    "#print len(p0.vertices)"
   ]
  },
  {
   "cell_type": "markdown",
   "metadata": {
    "collapsed": false,
    "deletable": true,
    "editable": true
   },
   "source": [
    "tic = time.time()\n",
    "p1 = p.orthogonal_projection_test(projection_dimensions)\n",
    "print time.time() - tic"
   ]
  },
  {
   "cell_type": "markdown",
   "metadata": {
    "collapsed": false,
    "deletable": true,
    "editable": true
   },
   "source": [
    "print len(p1.minimal_facets)\n",
    "print len(p1.vertices)\n",
    "\n",
    "from scipy.spatial import ConvexHull\n",
    "\n",
    "hull = ConvexHull(p1.vertices)\n",
    "print hull.equations.shape\n"
   ]
  }
 ],
 "metadata": {
  "celltoolbar": "Raw Cell Format",
  "kernelspec": {
   "display_name": "Python 2",
   "language": "python",
   "name": "python2"
  },
  "language_info": {
   "codemirror_mode": {
    "name": "ipython",
    "version": 2
   },
   "file_extension": ".py",
   "mimetype": "text/x-python",
   "name": "python",
   "nbconvert_exporter": "python",
   "pygments_lexer": "ipython2",
   "version": "2.7.13"
  }
 },
 "nbformat": 4,
 "nbformat_minor": 2
}
