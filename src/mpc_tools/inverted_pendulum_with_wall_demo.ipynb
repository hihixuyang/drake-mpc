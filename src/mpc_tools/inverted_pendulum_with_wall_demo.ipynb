{
 "cells": [
  {
   "cell_type": "markdown",
   "metadata": {
    "deletable": true,
    "editable": true
   },
   "source": [
    "# Linear Inverted Pendulum with Wall, Hybrid MPC Demo"
   ]
  },
  {
   "cell_type": "markdown",
   "metadata": {
    "deletable": true,
    "editable": true
   },
   "source": [
    "This is a demo for the Model Predictive Control (MPC) package $\\texttt{mpc_tools}$."
   ]
  },
  {
   "cell_type": "code",
   "execution_count": 1,
   "metadata": {
    "collapsed": false,
    "deletable": true,
    "editable": true
   },
   "outputs": [],
   "source": [
    "%load_ext autoreload\n",
    "%autoreload 2\n",
    "#%pylab notebook"
   ]
  },
  {
   "cell_type": "code",
   "execution_count": 2,
   "metadata": {
    "collapsed": false,
    "deletable": true,
    "editable": true
   },
   "outputs": [],
   "source": [
    "import numpy as np\n",
    "import matplotlib.pyplot as plt\n",
    "from control import MPCHybridController\n",
    "import dynamical_systems as ds\n",
    "from geometry import Polytope"
   ]
  },
  {
   "cell_type": "markdown",
   "metadata": {
    "deletable": true,
    "editable": true
   },
   "source": [
    "We stabilize a linear inverted pendulum with mass $m$ and length $l$, subject to the gravity acceleration $g$. The pendulum is allowed to impact with an elastic wall (with stiffness $k$) placed at distance $d$ from the vertical line passing trough the hinge."
   ]
  },
  {
   "cell_type": "code",
   "execution_count": 3,
   "metadata": {
    "collapsed": true,
    "deletable": true,
    "editable": true
   },
   "outputs": [],
   "source": [
    "m = 1.\n",
    "l = 1.\n",
    "g = 10.\n",
    "k = 10000.\n",
    "d = .1\n",
    "t_s = .01"
   ]
  },
  {
   "cell_type": "markdown",
   "metadata": {
    "deletable": true,
    "editable": true
   },
   "source": [
    "We express the linearized dynamics in PieceWise Affine (PWA) form:\n",
    "\\begin{equation}\n",
    "\\dot x =\n",
    "\\begin{cases}\n",
    "A_1 x + B_1 u + c_1, \\quad \\text{if} \\quad (x, u) \\in \\mathcal D_1, \\\\\n",
    "A_2 x + B_2 u + c_2, \\quad \\text{if} \\quad (x, u) \\in \\mathcal D_2,\n",
    "\\end{cases}\n",
    "\\end{equation}\n",
    "\n",
    "with\n",
    "\n",
    "\\begin{equation}\n",
    "A_1 = \n",
    "\\begin{bmatrix}\n",
    "0 & 1 \\\\ g/l & 0\n",
    "\\end{bmatrix},\n",
    "\\quad\n",
    "B_1 = \n",
    "\\begin{bmatrix}\n",
    "0 \\\\ 1/(ml^2)\n",
    "\\end{bmatrix},\n",
    "\\quad\n",
    "c_1 = \n",
    "\\begin{bmatrix}\n",
    "0 \\\\ 0\n",
    "\\end{bmatrix},\n",
    "\\end{equation}\n",
    "\n",
    "\\begin{equation}\n",
    "\\mathcal D_1 =\n",
    "\\{ (x,u) \\ | \\ x_1 \\leq d/l, \\ x_{min} \\leq x \\leq x_{max}, \\ u_{min} \\leq u \\leq u_{max} \\},\n",
    "\\end{equation}\n",
    "\n",
    "\\begin{equation}\n",
    "A_2 = \n",
    "\\begin{bmatrix}\n",
    "0 & 1 \\\\ g/l - k/m & 0\n",
    "\\end{bmatrix},\n",
    "\\quad\n",
    "B_2 = \n",
    "\\begin{bmatrix}\n",
    "0 \\\\ 1/(ml^2)\n",
    "\\end{bmatrix},\n",
    "\\quad\n",
    "c_2 = \n",
    "\\begin{bmatrix}\n",
    "0 \\\\ kd/(ml)\n",
    "\\end{bmatrix},\n",
    "\\end{equation}\n",
    "\n",
    "\\begin{equation}\n",
    "\\mathcal D_2 =\n",
    "\\{ (x,u) \\ | \\ x_1 > d/l, \\ x_{min} \\leq x \\leq x_{max}, \\ u_{min} \\leq u \\leq u_{max} \\},\n",
    "\\end{equation}\n",
    "\n",
    "\n",
    "The discrete-time PWA system can be defined from its continuous-time representation setting a sampling time $t_s$ (the exact zero-order-hold discretization is used)."
   ]
  },
  {
   "cell_type": "code",
   "execution_count": 4,
   "metadata": {
    "collapsed": false,
    "deletable": true,
    "editable": true
   },
   "outputs": [],
   "source": [
    "A_1 = np.array([[0., 1.],[g/l, 0.]])\n",
    "B_1 = np.array([[0.],[1/(m*l**2.)]])\n",
    "c_1 = np.array([[0.],[0.]])\n",
    "sys_1 = ds.DTAffineSystem.from_continuous(A_1, B_1, c_1, t_s)\n",
    "\n",
    "A_2 = np.array([[0., 1.],[g/l-k/m, 0.]])\n",
    "B_2 = B_1\n",
    "c_2 = np.array([[0.],[k*d/(m*l)]])\n",
    "sys_2 = ds.DTAffineSystem.from_continuous(A_2, B_2, c_2, t_s)\n",
    "\n",
    "sys = [sys_1, sys_2]"
   ]
  },
  {
   "cell_type": "code",
   "execution_count": 5,
   "metadata": {
    "collapsed": false,
    "deletable": true,
    "editable": true
   },
   "outputs": [],
   "source": [
    "x_max_1 = np.array([[d/l], [1.5]])\n",
    "x_max_2 = np.array([[d/l*2.],[x_max_1[1,0]]])\n",
    "x_min_1 = -x_max_2\n",
    "x_min_2 = np.array([[x_max_1[0,0]], [x_min_1[1,0]]])\n",
    "\n",
    "X_1 = Polytope.from_bounds(x_max_1, x_min_1)\n",
    "X_1.assemble()\n",
    "X_2 = Polytope.from_bounds(x_max_2, x_min_2)\n",
    "X_2.assemble()\n",
    "X = [X_1, X_2]\n",
    "\n",
    "u_max = np.array([[4.]])\n",
    "u_min = -u_max\n",
    "\n",
    "U_1 = Polytope.from_bounds(u_max, u_min)\n",
    "U_1.assemble()\n",
    "U_2 = U_1\n",
    "U = [U_1, U_2]"
   ]
  },
  {
   "cell_type": "code",
   "execution_count": 6,
   "metadata": {
    "collapsed": true,
    "deletable": true,
    "editable": true
   },
   "outputs": [],
   "source": [
    "pwa_sys = ds.DTPWASystem(sys, X, U)"
   ]
  },
  {
   "cell_type": "markdown",
   "metadata": {
    "deletable": true,
    "editable": true
   },
   "source": [
    "At each each step, the following optimal control is solved\n",
    "\\begin{align}\n",
    "\\min \\quad &\n",
    "\\sum_{k=0}^{N-1} (x_k^T Q x_k + u_k^T R u_k) + x_N^T P x_N \\\\\n",
    "\\text{subject to} \\quad &\n",
    "x_{k+1} =\n",
    "\\begin{cases}\n",
    "A_1 x_k + B_1 u_k + c_1, \\quad \\text{if} \\quad (x_k, u_k) \\in \\mathcal D_1, \\\\\n",
    "A_2 x_k + B_2 u_k + c_2, \\quad \\text{if} \\quad (x_k, u_k) \\in \\mathcal D_2,\n",
    "\\end{cases}, \\\\\n",
    "& (x_k, u_k) \\in \\mathcal D_1 \\cup \\mathcal D_2, \\quad k = 1,2,\\ldots,N-1, \\\\\n",
    "& x_N \\in \\mathcal X_N, \\\\\n",
    "& x_0 \\ \\text{given}, \\\\\n",
    "\\end{align}\n",
    "and the input $u_0$ is applied to the system."
   ]
  },
  {
   "cell_type": "code",
   "execution_count": 41,
   "metadata": {
    "collapsed": false,
    "deletable": true,
    "editable": true
   },
   "outputs": [],
   "source": [
    "N = 20\n",
    "Q = np.eye(A_1.shape[0])\n",
    "R = np.eye(B_1.shape[1])\n",
    "objective_norm = 'one'"
   ]
  },
  {
   "cell_type": "code",
   "execution_count": 42,
   "metadata": {
    "collapsed": true
   },
   "outputs": [],
   "source": [
    "lin_sys_1 = ds.DTLinearSystem.from_continuous(A_1, B_1, t_s)\n",
    "P, K = ds.dare(lin_sys_1.A, lin_sys_1.B, Q, R)\n",
    "X_N = ds.moas_closed_loop(lin_sys_1.A, lin_sys_1.B, K, X_1, U_1)"
   ]
  },
  {
   "cell_type": "code",
   "execution_count": 57,
   "metadata": {
    "collapsed": false
   },
   "outputs": [],
   "source": [
    "#X_N = X_1\n",
    "#P = Q*100.\n",
    "controller = MPCHybridController(pwa_sys, N, objective_norm, Q, R, P*10., X_1)"
   ]
  },
  {
   "cell_type": "code",
   "execution_count": 66,
   "metadata": {
    "collapsed": false,
    "deletable": true,
    "editable": true
   },
   "outputs": [],
   "source": [
    "N_sim = 100\n",
    "x_0 = np.array([[.05],[0.2]])\n",
    "u = []\n",
    "x = []\n",
    "x.append(x_0)\n",
    "for k in range(N_sim):\n",
    "    u.append(controller.feedback(x[k]))\n",
    "    x_next = pwa_sys.simulate(x[k], [u[k]])[0][1]\n",
    "    x.append(x_next)"
   ]
  },
  {
   "cell_type": "code",
   "execution_count": 71,
   "metadata": {
    "collapsed": false,
    "deletable": true,
    "editable": true
   },
   "outputs": [
    {
     "data": {
      "image/png": "[encoded data removed]",
      "text/plain": [
       "<matplotlib.figure.Figure at 0x118c4ddd0>"
      ]
     },
     "metadata": {},
     "output_type": "display_data"
    },
    {
     "data": {
      "image/png": "[encoded data removed]",
      "text/plain": [
       "<matplotlib.figure.Figure at 0x118d183d0>"
      ]
     },
     "metadata": {},
     "output_type": "display_data"
    }
   ],
   "source": [
    "ds.plot_input_sequence(u, t_s, N_sim, u_max, u_min)\n",
    "plt.show()\n",
    "ds.plot_state_trajectory(x, t_s, N_sim, (x_max_2, x_min_1))\n",
    "plt.show()"
   ]
  },
  {
   "cell_type": "code",
   "execution_count": 68,
   "metadata": {
    "collapsed": false,
    "deletable": true,
    "editable": true,
    "scrolled": true
   },
   "outputs": [
    {
     "data": {
      "image/png": "[encoded data removed]",
      "text/plain": [
       "<matplotlib.figure.Figure at 0x118936290>"
      ]
     },
     "metadata": {},
     "output_type": "display_data"
    }
   ],
   "source": [
    "X_1.plot(facecolor='g')\n",
    "X_2.plot(facecolor='r')\n",
    "ds.plot_state_space_trajectory(x, color='w')\n",
    "plt.show()"
   ]
  },
  {
   "cell_type": "code",
   "execution_count": 69,
   "metadata": {
    "collapsed": false
   },
   "outputs": [
    {
     "name": "stdout",
     "output_type": "stream",
     "text": [
      "[0, 0, 0, 0, 0, 0, 0, 0, 0, 0, 0, 0, 0, 0, 0, 0, 0, 1, 1, 1]\n",
      "[array([[ 4.]]), array([[ 0.50757701]]), array([[ 0.]]), array([[ 0.]]), array([[ 0.]]), array([[  7.10542736e-15]]), array([[ 0.]]), array([[  3.55271368e-15]]), array([[ 0.]]), array([[ -7.10542736e-15]]), array([[ -3.33363046e-16]]), array([[ 0.]]), array([[ 0.]]), array([[ 0.]]), array([[ -2.58875458e-16]]), array([[  2.07029157e-16]]), array([[-4.]]), array([[-1.58786809]]), array([[ 0.]]), array([[ 0.]])]\n",
      "[[ 4.        ]\n",
      " [ 0.50757701]\n",
      " [ 0.        ]\n",
      " [ 0.        ]\n",
      " [ 0.        ]\n",
      " [ 0.        ]\n",
      " [ 0.        ]\n",
      " [ 0.        ]\n",
      " [ 0.        ]\n",
      " [ 0.        ]\n",
      " [ 0.        ]\n",
      " [ 0.        ]\n",
      " [ 0.        ]\n",
      " [ 0.        ]\n",
      " [ 0.        ]\n",
      " [ 0.        ]\n",
      " [-4.        ]\n",
      " [-1.58786809]\n",
      " [ 0.        ]\n",
      " [ 0.        ]]\n"
     ]
    }
   ],
   "source": [
    "u_mi, ss = controller.feedforward(x_0)\n",
    "print ss\n",
    "prog = controller.condense_program(ss)\n",
    "u_ss = prog.solve(x_0)[0]\n",
    "print u_mi\n",
    "print u_ss"
   ]
  },
  {
   "cell_type": "markdown",
   "metadata": {
    "collapsed": false,
    "deletable": true,
    "editable": true
   },
   "source": [
    "\n",
    "alpha = .3\n",
    "ss = [0]*N\n",
    "print ss\n",
    "controller.plot_feasible_set(ss, facecolor=np.random.rand(3,1),alpha=alpha)\n",
    "\n",
    "for len_contact in range(1,N+1):\n",
    "    ss = [0]*(N-len_contact) + [1]*len_contact\n",
    "    col = np.random.rand(3,1)\n",
    "    for i in range(N-len_contact+1):\n",
    "        print ss\n",
    "        controller.plot_feasible_set(ss, facecolor=np.random.rand(3,1),alpha=alpha)\n",
    "        del ss[0]\n",
    "        ss += [0]\n",
    "plt.show()\n",
    "\n",
    "u = controller.feedforward(x_0)\n",
    "act_set = pwa_sys.simulate(x_0, u)[1]\n",
    "\n",
    "print('Optimal active set for x_0 = ' + str(x_0.flatten()) + ' is ' + str(act_set))"
   ]
  },
  {
   "cell_type": "markdown",
   "metadata": {
    "collapsed": false,
    "deletable": true,
    "editable": true
   },
   "source": [
    "nf = 30\n",
    "nv = 10\n",
    "A = np.random.randn(nf,nv);\n",
    "b = np.random.rand(nf,1)\n",
    "projection_dimensions = [0,1,2,3,4]"
   ]
  },
  {
   "cell_type": "markdown",
   "metadata": {
    "collapsed": false,
    "deletable": true,
    "editable": true,
    "scrolled": true
   },
   "source": [
    "import time\n",
    "tic = time.time()\n",
    "p = Polytope(A,b)\n",
    "p.assemble()\n",
    "print time.time() - tic\n",
    "#p.plot()\n",
    "#plt.show()"
   ]
  },
  {
   "cell_type": "markdown",
   "metadata": {
    "collapsed": false,
    "deletable": true,
    "editable": true
   },
   "source": [
    "\n",
    "#tic = time.time()\n",
    "#p0 = p.orthogonal_projection(projection_dimensions)\n",
    "#print time.time() - tic\n",
    "#p0.plot()\n",
    "#plt.show()\n",
    "#print len(p0.vertices)"
   ]
  },
  {
   "cell_type": "markdown",
   "metadata": {
    "collapsed": false,
    "deletable": true,
    "editable": true
   },
   "source": [
    "tic = time.time()\n",
    "p1 = p.orthogonal_projection_test(projection_dimensions)\n",
    "print time.time() - tic"
   ]
  },
  {
   "cell_type": "markdown",
   "metadata": {
    "collapsed": false,
    "deletable": true,
    "editable": true
   },
   "source": [
    "print len(p1.minimal_facets)\n",
    "print len(p1.vertices)\n",
    "\n",
    "from scipy.spatial import ConvexHull\n",
    "\n",
    "hull = ConvexHull(p1.vertices)\n",
    "print hull.equations.shape\n"
   ]
  }
 ],
 "metadata": {
  "celltoolbar": "Raw Cell Format",
  "kernelspec": {
   "display_name": "Python 2",
   "language": "python",
   "name": "python2"
  },
  "language_info": {
   "codemirror_mode": {
    "name": "ipython",
    "version": 2
   },
   "file_extension": ".py",
   "mimetype": "text/x-python",
   "name": "python",
   "nbconvert_exporter": "python",
   "pygments_lexer": "ipython2",
   "version": "2.7.13"
  }
 },
 "nbformat": 4,
 "nbformat_minor": 2
}
