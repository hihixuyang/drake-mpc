{
 "cells": [
  {
   "cell_type": "code",
   "execution_count": 1,
   "metadata": {
    "collapsed": false
   },
   "outputs": [
    {
     "name": "stdout",
     "output_type": "stream",
     "text": [
      "Populating the interactive namespace from numpy and matplotlib\n"
     ]
    }
   ],
   "source": [
    "%load_ext autoreload\n",
    "%autoreload 2\n",
    "\n",
    "%pylab inline"
   ]
  },
  {
   "cell_type": "code",
   "execution_count": 2,
   "metadata": {
    "collapsed": false
   },
   "outputs": [],
   "source": [
    "import numpy as np\n",
    "import pydrake.solvers.mathematicalprogram as mp\n",
    "import mpc.mpc_tools as mpc\n",
    "import itertools"
   ]
  },
  {
   "cell_type": "code",
   "execution_count": 120,
   "metadata": {
    "collapsed": false
   },
   "outputs": [],
   "source": [
    "m = 1.\n",
    "l = 1.\n",
    "g = 10.\n",
    "A = np.array([\n",
    "    [0., 1.],\n",
    "    [g/l, 0.]\n",
    "])\n",
    "B = np.array([\n",
    "    [0.],\n",
    "    [1/(m*l**2.)]\n",
    "])\n",
    "N = 5\n",
    "t_s = .1\n",
    "sys = mpc.DTLinearSystem.from_continuous(t_s, A, B)\n",
    "\n",
    "x_max = np.array([[np.pi/6.],[np.pi/22./(N*t_s)]])\n",
    "x_min = -x_max\n",
    "u_max = np.array([[m*g*l*np.pi/8.]])\n",
    "u_min = -u_max\n",
    "\n",
    "Q = np.eye(A.shape[0])/100.\n",
    "R = np.eye(B.shape[1])"
   ]
  },
  {
   "cell_type": "code",
   "execution_count": 181,
   "metadata": {
    "collapsed": false
   },
   "outputs": [],
   "source": [
    "N = 5\n",
    "dim = 2\n",
    "\n",
    "prog = mp.MathematicalProgram()\n",
    "\n",
    "x = prog.NewContinuousVariables(2, N, \"x\")\n",
    "u = prog.NewContinuousVariables(1, N, \"u\")\n",
    "\n",
    "for j in range(N - 1):\n",
    "    x_next = sys.A.dot(x[:, j]) + sys.B.dot(u[:, j])\n",
    "    for i in range(dim):\n",
    "        prog.AddLinearConstraint(x[i, j + 1] == x_next[i])\n",
    "        \n",
    "for j in range(N):\n",
    "    for i in range(x.shape[0]):\n",
    "        prog.AddLinearConstraint(x[i, j] <= x_max[i])\n",
    "        prog.AddLinearConstraint(x[i, j] >= x_min[i])\n",
    "    for i in range(u.shape[0]):\n",
    "        prog.AddLinearConstraint(u[i, j] <= u_max[i])\n",
    "        prog.AddLinearConstraint(u[i, j] >= u_min[i])\n",
    "        \n",
    "for j in range(N):\n",
    "    prog.AddQuadraticCost(x[:, j].T.dot(Q).dot(x[:, j]))\n",
    "    prog.AddQuadraticCost(u[:, j].T.dot(R).dot(u[:, j]))"
   ]
  },
  {
   "cell_type": "code",
   "execution_count": 182,
   "metadata": {
    "collapsed": true
   },
   "outputs": [],
   "source": [
    "def extract_linear_equalities(prog):\n",
    "    bindings = prog.linear_equality_constraints()\n",
    "    C = np.zeros((len(bindings), prog.num_vars()))\n",
    "    d = np.zeros(len(bindings))\n",
    "    for (i, binding) in enumerate(bindings):\n",
    "        constraint = binding.constraint()\n",
    "        ci = np.zeros(prog.num_vars())\n",
    "        assert constraint.upper_bound() == constraint.lower_bound()\n",
    "        d[i] = constraint.upper_bound()\n",
    "        ai = constraint.A()\n",
    "        assert ai.shape[0] == 1\n",
    "        ai = ai[0, :]\n",
    "        for (j, var) in enumerate(binding.variables()):\n",
    "            ci[prog.FindDecisionVariableIndex(var)] = ai[j]\n",
    "        C[i, :] = ci\n",
    "    return C, d\n",
    "    \n",
    "\n",
    "def extract_linear_inequalities(prog):\n",
    "    bindings = itertools.chain(prog.linear_constraints(), prog.bounding_box_constraints())\n",
    "    if not bindings:\n",
    "        return np.zeros((0, prog.num_vars())), np.zeros(0)\n",
    "    A = []\n",
    "    b = []\n",
    "    for (i, binding) in enumerate(bindings):\n",
    "        constraint = binding.constraint()\n",
    "        A_row = np.zeros(prog.num_vars())\n",
    "        ai = constraint.A()\n",
    "        assert ai.shape[0] == 1\n",
    "        ai = ai[0, :]\n",
    "        for (j, var) in enumerate(binding.variables()):\n",
    "            A_row[prog.FindDecisionVariableIndex(var)] = ai[j]\n",
    "        \n",
    "        if constraint.upper_bound() != np.inf:\n",
    "            A.append(A_row)\n",
    "            b.append(constraint.upper_bound())\n",
    "        if constraint.lower_bound() != -np.inf:\n",
    "            A.append(-A_row)\n",
    "            b.append(-constraint.lower_bound())\n",
    "    return np.vstack(A), np.hstack(b)\n",
    "    \n",
    "\n",
    "def mpc_order(prog, u, x0):\n",
    "    order = np.zeros(prog.num_vars())\n",
    "    order[:] = np.inf\n",
    "    for (i, var) in enumerate(itertools.chain(u.flat, x0.flat)):\n",
    "        order[prog.FindDecisionVariableIndex(var)] = i\n",
    "    return np.argsort(order)\n",
    "    \n",
    "\n",
    "def simplify(C):\n",
    "    C = C.copy()\n",
    "    num_vars = C.shape[1]\n",
    "    D = np.eye(num_vars)\n",
    "    for j in range(C.shape[1] - 1, C.shape[1] - C.shape[0] - 1, -1):\n",
    "        nonzeros = np.nonzero(C[:, j])[0]\n",
    "        assert len(nonzeros) == 1\n",
    "        i = nonzeros[0]\n",
    "        v = C[i, :j] / -C[i, j]\n",
    "        D = D.dot(np.vstack([np.eye(j), v]))\n",
    "        C = C[[k for k in range(C.shape[0]) if k != i], :]\n",
    "    return D\n",
    "\n",
    "\n",
    "def extract_objective(prog):\n",
    "    num_vars = prog.num_vars()\n",
    "    Q = np.zeros((num_vars, num_vars))\n",
    "    q = np.zeros(num_vars)\n",
    "    \n",
    "    for binding in prog.linear_costs():\n",
    "        var_order = [prog.FindDecisionVariableIndex(v) for v in binding.variables()]\n",
    "        ai = binding.constraint().A()\n",
    "        assert ai.shape[0] == 1\n",
    "        ai = ai[0, :]\n",
    "        for i in range(ai.size):\n",
    "            q[var_order[i]] += ai[i]\n",
    "    \n",
    "    for binding in prog.quadratic_costs():\n",
    "        var_order = [prog.FindDecisionVariableIndex(v) for v in binding.variables()]\n",
    "        Qi = binding.constraint().Q()\n",
    "        bi = binding.constraint().b()\n",
    "        for i in range(bi.size):\n",
    "            q[var_order[i]] += bi[i]\n",
    "            for j in range(bi.size):\n",
    "                Q[var_order[i], var_order[j]] += Qi[i, j]\n",
    "    Q = 0.5 * (Q + Q.T)\n",
    "    return Q, q\n",
    "\n",
    "def permutation_matrix(order):\n",
    "    \"\"\"\n",
    "    Returns a matrix P such that P * y = y[order]\n",
    "    \"\"\"\n",
    "    P = np.zeros((len(order), len(order)))\n",
    "    for i in range(len(order)):\n",
    "        P[i, order[i]] = 1\n",
    "        \n",
    "    return P"
   ]
  },
  {
   "cell_type": "code",
   "execution_count": null,
   "metadata": {
    "collapsed": true
   },
   "outputs": [],
   "source": []
  },
  {
   "cell_type": "code",
   "execution_count": 222,
   "metadata": {
    "collapsed": false
   },
   "outputs": [],
   "source": [
    "def generate_mpc_system(prog, u, x0):\n",
    "    C, d = extract_linear_equalities(prog)\n",
    "    A, b = extract_linear_inequalities(prog)\n",
    "    Q, q = extract_objective(prog)\n",
    "    assert np.allclose(q, 0), \"linear objective terms are not yet implemented\"\n",
    "    return Q, q, A, b, C, d\n",
    "    \n",
    "    order = mpc_order(prog, u, x0)\n",
    "    P = permutation_matrix(order)\n",
    "    # yhat = P * y\n",
    "    # y = P^-1 * yhat\n",
    "    \n",
    "    Pinv = np.linalg.inv(P)\n",
    "    \n",
    "    Qhat = Pinv.T.dot(Q).dot(Pinv)\n",
    "    qhat = q.dot(Pinv)\n",
    "    Ahat = A.dot(Pinv)\n",
    "    bhat = b\n",
    "    Chat = C.dot(Pinv)\n",
    "    dhat = d\n",
    "    \n",
    "    for i in range(10):\n",
    "        f = rand(q.size)\n",
    "        fhat = f.dot(Pinv)\n",
    "        y, cost = mpc.quadratic_program(Q, f, A, b, C, d)\n",
    "        yhat, cost_hat = mpc.quadratic_program(Qhat, fhat, Ahat, bhat, Chat, dhat)\n",
    "        assert np.isclose(cost, cost_hat)\n",
    "        assert np.allclose(yhat, P.dot(y))\n",
    "    \n",
    "    W = simplify(Chat)\n",
    "    # yhat = W * z\n",
    "    \n",
    "    Qtilde = W.T.dot(Qhat).dot(W)\n",
    "    qtilde = qhat.dot(W)\n",
    "    Atilde = Ahat.dot(W)\n",
    "    btilde = bhat\n",
    "    Ctilde = Chat.dot(W)\n",
    "    dtilde = dhat\n",
    "    assert np.allclose(Ctilde, 0)\n",
    "    \n",
    "    for i in range(100):\n",
    "        f = rand(q.size)\n",
    "        fhat = f.dot(Pinv)\n",
    "        ftilde = fhat.dot(W)\n",
    "        y, cost = mpc.quadratic_program(Q, f, A, b, C, d)\n",
    "        yhat, cost_hat = mpc.quadratic_program(Qhat, fhat, Ahat, bhat, Chat, dhat)\n",
    "        ytilde, cost_tilde = mpc.quadratic_program(Qtilde, ftilde, Atilde, btilde)\n",
    "        assert np.isclose(cost, cost_hat)\n",
    "        assert np.isclose(cost, cost_tilde)\n",
    "        assert np.allclose(yhat, P.dot(y))\n",
    "        assert np.allclose(yhat, W.dot(ytilde))\n",
    "        \n",
    "    H = Qtilde[:u.size, :u.size]\n",
    "    F = Qtilde[u.size:, :u.size]\n",
    "    G = Atilde[:, :u.size]\n",
    "    E = -Atilde[:, u.size:]\n",
    "    W = btilde\n",
    "    \n",
    "    return H, F, G, W, E"
   ]
  },
  {
   "cell_type": "code",
   "execution_count": 223,
   "metadata": {
    "collapsed": true
   },
   "outputs": [],
   "source": [
    "Q, q, A, b, C, d = generate_mpc_system(prog, u, x[:, 0])"
   ]
  },
  {
   "cell_type": "code",
   "execution_count": 224,
   "metadata": {
    "collapsed": false
   },
   "outputs": [
    {
     "data": {
      "text/plain": [
       "<pydrake.solvers._pydrake_mathematicalprogram.Binding_LinearConstraint at 0x7f8ab1872630>"
      ]
     },
     "execution_count": 224,
     "metadata": {},
     "output_type": "execute_result"
    }
   ],
   "source": [
    "prog.AddLinearCost(np.sum(u) + np.sum(x))"
   ]
  },
  {
   "cell_type": "code",
   "execution_count": 225,
   "metadata": {
    "collapsed": false
   },
   "outputs": [
    {
     "data": {
      "text/plain": [
       "SolutionResult.kSolutionFound"
      ]
     },
     "execution_count": 225,
     "metadata": {},
     "output_type": "execute_result"
    }
   ],
   "source": [
    "prog.Solve()"
   ]
  },
  {
   "cell_type": "code",
   "execution_count": 228,
   "metadata": {
    "collapsed": false
   },
   "outputs": [
    {
     "data": {
      "text/plain": [
       "array([[ 0.09522369,  0.06845627,  0.04374741,  0.01903279, -0.00774039],\n",
       "       [-0.28559933, -0.25420288, -0.24408559, -0.25431913, -0.28559933]])"
      ]
     },
     "execution_count": 228,
     "metadata": {},
     "output_type": "execute_result"
    }
   ],
   "source": [
    "prog.GetSolution(x)"
   ]
  },
  {
   "cell_type": "code",
   "execution_count": 226,
   "metadata": {
    "collapsed": false
   },
   "outputs": [
    {
     "data": {
      "text/plain": [
       "array([[-0.5018233 , -0.45900387, -0.41708772, -0.3718664 , -0.5       ]])"
      ]
     },
     "execution_count": 226,
     "metadata": {},
     "output_type": "execute_result"
    }
   ],
   "source": [
    "prog.GetSolution(u)"
   ]
  },
  {
   "cell_type": "code",
   "execution_count": 227,
   "metadata": {
    "collapsed": false
   },
   "outputs": [
    {
     "data": {
      "text/plain": [
       "[array([[ 0.09522369],\n",
       "        [-0.28559933],\n",
       "        [ 0.06845627],\n",
       "        [-0.25420288],\n",
       "        [ 0.04374741],\n",
       "        [-0.24408559],\n",
       "        [ 0.01903279],\n",
       "        [-0.25431913],\n",
       "        [-0.00774039],\n",
       "        [-0.28559933],\n",
       "        [-0.5018233 ],\n",
       "        [-0.45900387],\n",
       "        [-0.41708772],\n",
       "        [-0.3718664 ],\n",
       "        [-0.5       ]]), array([[-2.32642883]])]"
      ]
     },
     "execution_count": 227,
     "metadata": {},
     "output_type": "execute_result"
    }
   ],
   "source": [
    "mpc.quadratic_program(Q, np.ones(q.size), A, b, C, d)"
   ]
  },
  {
   "cell_type": "code",
   "execution_count": 220,
   "metadata": {
    "collapsed": false,
    "scrolled": false
   },
   "outputs": [],
   "source": [
    "H, F, G, W, E = generate_mpc_system(prog, u, x[:, 0])"
   ]
  },
  {
   "cell_type": "code",
   "execution_count": 196,
   "metadata": {
    "collapsed": false
   },
   "outputs": [
    {
     "data": {
      "text/plain": [
       "(30, 5)"
      ]
     },
     "execution_count": 196,
     "metadata": {},
     "output_type": "execute_result"
    }
   ],
   "source": [
    "G.shape"
   ]
  },
  {
   "cell_type": "code",
   "execution_count": 6,
   "metadata": {
    "collapsed": true
   },
   "outputs": [],
   "source": [
    "a = 0.1\n",
    "b = 0.2\n",
    "A = np.array([[b, 0, a, -1, 0], [0, b, 0, a, -1]])"
   ]
  },
  {
   "cell_type": "code",
   "execution_count": 7,
   "metadata": {
    "collapsed": false
   },
   "outputs": [
    {
     "data": {
      "text/plain": [
       "array([[ 1.  ,  0.  ,  0.  ],\n",
       "       [ 0.  ,  1.  ,  0.  ],\n",
       "       [ 0.  ,  0.  ,  1.  ],\n",
       "       [ 0.2 ,  0.  ,  0.1 ],\n",
       "       [ 0.02,  0.2 ,  0.01]])"
      ]
     },
     "execution_count": 7,
     "metadata": {},
     "output_type": "execute_result"
    }
   ],
   "source": [
    "simplify(A)"
   ]
  },
  {
   "cell_type": "code",
   "execution_count": null,
   "metadata": {
    "collapsed": true
   },
   "outputs": [],
   "source": []
  },
  {
   "cell_type": "code",
   "execution_count": 18,
   "metadata": {
    "collapsed": false
   },
   "outputs": [
    {
     "data": {
      "text/plain": [
       "array([[-0.00504181,  0.        ,  0.        ,  0.        ,  0.        ,\n",
       "        -1.05041806, -0.10167502,  1.        ,  0.        ,  0.        ,\n",
       "         0.        ,  0.        ,  0.        ,  0.        ,  0.        ],\n",
       "       [-0.10167502,  0.        ,  0.        ,  0.        ,  0.        ,\n",
       "        -1.0167502 , -1.05041806,  0.        ,  1.        ,  0.        ,\n",
       "         0.        ,  0.        ,  0.        ,  0.        ,  0.        ],\n",
       "       [ 0.        , -0.00504181,  0.        ,  0.        ,  0.        ,\n",
       "         0.        ,  0.        , -1.05041806, -0.10167502,  1.        ,\n",
       "         0.        ,  0.        ,  0.        ,  0.        ,  0.        ],\n",
       "       [ 0.        , -0.10167502,  0.        ,  0.        ,  0.        ,\n",
       "         0.        ,  0.        , -1.0167502 , -1.05041806,  0.        ,\n",
       "         1.        ,  0.        ,  0.        ,  0.        ,  0.        ],\n",
       "       [ 0.        ,  0.        , -0.00504181,  0.        ,  0.        ,\n",
       "         0.        ,  0.        ,  0.        ,  0.        , -1.05041806,\n",
       "        -0.10167502,  1.        ,  0.        ,  0.        ,  0.        ],\n",
       "       [ 0.        ,  0.        , -0.10167502,  0.        ,  0.        ,\n",
       "         0.        ,  0.        ,  0.        ,  0.        , -1.0167502 ,\n",
       "        -1.05041806,  0.        ,  1.        ,  0.        ,  0.        ],\n",
       "       [ 0.        ,  0.        ,  0.        , -0.00504181,  0.        ,\n",
       "         0.        ,  0.        ,  0.        ,  0.        ,  0.        ,\n",
       "         0.        , -1.05041806, -0.10167502,  1.        ,  0.        ],\n",
       "       [ 0.        ,  0.        ,  0.        , -0.10167502,  0.        ,\n",
       "         0.        ,  0.        ,  0.        ,  0.        ,  0.        ,\n",
       "         0.        , -1.0167502 , -1.05041806,  0.        ,  1.        ]])"
      ]
     },
     "execution_count": 18,
     "metadata": {},
     "output_type": "execute_result"
    }
   ],
   "source": []
  },
  {
   "cell_type": "code",
   "execution_count": 20,
   "metadata": {
    "collapsed": false
   },
   "outputs": [
    {
     "data": {
      "text/plain": [
       "array([[  1.00000000e+00,   0.00000000e+00,   0.00000000e+00,\n",
       "          0.00000000e+00,   0.00000000e+00,   0.00000000e+00,\n",
       "          0.00000000e+00],\n",
       "       [  0.00000000e+00,   1.00000000e+00,   0.00000000e+00,\n",
       "          0.00000000e+00,   0.00000000e+00,   0.00000000e+00,\n",
       "          0.00000000e+00],\n",
       "       [  0.00000000e+00,   0.00000000e+00,   1.00000000e+00,\n",
       "          0.00000000e+00,   0.00000000e+00,   0.00000000e+00,\n",
       "          0.00000000e+00],\n",
       "       [  0.00000000e+00,   0.00000000e+00,   0.00000000e+00,\n",
       "          1.00000000e+00,   0.00000000e+00,   0.00000000e+00,\n",
       "          0.00000000e+00],\n",
       "       [  0.00000000e+00,   0.00000000e+00,   0.00000000e+00,\n",
       "          0.00000000e+00,   1.00000000e+00,   0.00000000e+00,\n",
       "          0.00000000e+00],\n",
       "       [  0.00000000e+00,   0.00000000e+00,   0.00000000e+00,\n",
       "          0.00000000e+00,   0.00000000e+00,   1.00000000e+00,\n",
       "          0.00000000e+00],\n",
       "       [  0.00000000e+00,   0.00000000e+00,   0.00000000e+00,\n",
       "          0.00000000e+00,   0.00000000e+00,   0.00000000e+00,\n",
       "          1.00000000e+00],\n",
       "       [  5.04180580e-03,   0.00000000e+00,   0.00000000e+00,\n",
       "          0.00000000e+00,   0.00000000e+00,   1.05041806e+00,\n",
       "          1.01675020e-01],\n",
       "       [  1.01675020e-01,   0.00000000e+00,   0.00000000e+00,\n",
       "          0.00000000e+00,   0.00000000e+00,   1.01675020e+00,\n",
       "          1.05041806e+00],\n",
       "       [  1.56338135e-02,   5.04180580e-03,   0.00000000e+00,\n",
       "          0.00000000e+00,   0.00000000e+00,   1.20675619e+00,\n",
       "          2.13602554e-01],\n",
       "       [  1.11927534e-01,   1.01675020e-01,   0.00000000e+00,\n",
       "          0.00000000e+00,   0.00000000e+00,   2.13602554e+00,\n",
       "          1.20675619e+00],\n",
       "       [  2.78022743e-02,   1.56338135e-02,   5.04180580e-03,\n",
       "          0.00000000e+00,   0.00000000e+00,   1.48477894e+00,\n",
       "          3.47068940e-01],\n",
       "       [  1.33466386e-01,   1.11927534e-01,   1.01675020e-01,\n",
       "          0.00000000e+00,   0.00000000e+00,   3.47068940e+00,\n",
       "          1.48477894e+00],\n",
       "       [  4.27742084e-02,   2.78022743e-02,   1.56338135e-02,\n",
       "          5.04180580e-03,   0.00000000e+00,   1.91252102e+00,\n",
       "          5.15532410e-01],\n",
       "       [  1.68463470e-01,   1.33466386e-01,   1.11927534e-01,\n",
       "          1.01675020e-01,   0.00000000e+00,   5.15532410e+00,\n",
       "          1.91252102e+00]])"
      ]
     },
     "execution_count": 20,
     "metadata": {},
     "output_type": "execute_result"
    }
   ],
   "source": [
    "simplify(C)"
   ]
  },
  {
   "cell_type": "code",
   "execution_count": 10,
   "metadata": {
    "collapsed": false
   },
   "outputs": [
    {
     "data": {
      "text/plain": [
       "array([u(0,3), x(0,3), x(1,3), x(1,4)], dtype=object)"
      ]
     },
     "execution_count": 10,
     "metadata": {},
     "output_type": "execute_result"
    }
   ],
   "source": [
    "binding.variables()"
   ]
  },
  {
   "cell_type": "code",
   "execution_count": 11,
   "metadata": {
    "collapsed": false
   },
   "outputs": [
    {
     "data": {
      "text/plain": [
       "array([[-0.10167502, -1.0167502 , -1.05041806,  1.        ]])"
      ]
     },
     "execution_count": 11,
     "metadata": {},
     "output_type": "execute_result"
    }
   ],
   "source": [
    "binding.constraint().A()"
   ]
  },
  {
   "cell_type": "code",
   "execution_count": null,
   "metadata": {
    "collapsed": true
   },
   "outputs": [],
   "source": []
  },
  {
   "cell_type": "code",
   "execution_count": 86,
   "metadata": {
    "collapsed": false
   },
   "outputs": [
    {
     "name": "stdout",
     "output_type": "stream",
     "text": [
      "[u(0,0) x(0,0) x(1,0) x(0,1)]\n",
      "x(0,1)\n",
      "[u(0,0) x(0,0) x(1,0) x(1,1)]\n",
      "x(1,1)\n",
      "[u(0,1) x(0,1) x(1,1) x(0,2)]\n",
      "x(0,2)\n",
      "[u(0,1) x(0,1) x(1,1) x(1,2)]\n",
      "x(1,2)\n",
      "[u(0,2) x(0,2) x(1,2) x(0,3)]\n",
      "x(0,3)\n",
      "[u(0,2) x(0,2) x(1,2) x(1,3)]\n",
      "x(1,3)\n",
      "[u(0,3) x(0,3) x(1,3) x(0,4)]\n",
      "x(0,4)\n",
      "[u(0,3) x(0,3) x(1,3) x(1,4)]\n",
      "x(1,4)\n"
     ]
    }
   ],
   "source": [
    "for binding in prog.linear_equality_constraints():\n",
    "    print binding.variables()\n",
    "    last_x = max(binding.variables(), key=lambda v: prog.FindDecisionVariableIndex(v))\n",
    "    print last_x"
   ]
  },
  {
   "cell_type": "code",
   "execution_count": 15,
   "metadata": {
    "collapsed": false
   },
   "outputs": [
    {
     "data": {
      "image/png": "[encoded data removed]",
      "text/plain": [
       "<matplotlib.figure.Figure at 0x7f008f976b50>"
      ]
     },
     "metadata": {},
     "output_type": "display_data"
    }
   ],
   "source": [
    "figure()\n",
    "hold(True)\n",
    "for (j, binding) in enumerate(prog.linear_equality_constraints()):\n",
    "    \n",
    "    for (v1, v2) in itertools.combinations(binding.variables(), 2):\n",
    "        i1 = prog.FindDecisionVariableIndex(v1)\n",
    "        i2 = prog.FindDecisionVariableIndex(v2)\n",
    "        plot([i1, i2], [j, j+1], 'b:')\n",
    "        "
   ]
  },
  {
   "cell_type": "code",
   "execution_count": null,
   "metadata": {
    "collapsed": true
   },
   "outputs": [],
   "source": []
  }
 ],
 "metadata": {
  "kernelspec": {
   "display_name": "Python 2",
   "language": "python",
   "name": "python2"
  },
  "language_info": {
   "codemirror_mode": {
    "name": "ipython",
    "version": 2
   },
   "file_extension": ".py",
   "mimetype": "text/x-python",
   "name": "python",
   "nbconvert_exporter": "python",
   "pygments_lexer": "ipython2",
   "version": "2.7.6"
  }
 },
 "nbformat": 4,
 "nbformat_minor": 1
}
