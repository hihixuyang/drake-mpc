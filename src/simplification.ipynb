{
 "cells": [
  {
   "cell_type": "code",
   "execution_count": 1,
   "metadata": {
    "collapsed": false
   },
   "outputs": [
    {
     "name": "stdout",
     "output_type": "stream",
     "text": [
      "search: \u001b[1mf\u001b[22m\u001b[1mi\u001b[22m\u001b[1mn\u001b[22m\u001b[1md\u001b[22m \u001b[1mf\u001b[22m\u001b[1mi\u001b[22m\u001b[1mn\u001b[22m\u001b[1md\u001b[22mn \u001b[1mf\u001b[22m\u001b[1mi\u001b[22m\u001b[1mn\u001b[22m\u001b[1md\u001b[22mnz \u001b[1mf\u001b[22m\u001b[1mi\u001b[22m\u001b[1mn\u001b[22m\u001b[1md\u001b[22min \u001b[1mf\u001b[22m\u001b[1mi\u001b[22m\u001b[1mn\u001b[22m\u001b[1md\u001b[22mmin \u001b[1mf\u001b[22m\u001b[1mi\u001b[22m\u001b[1mn\u001b[22m\u001b[1md\u001b[22mmax \u001b[1mf\u001b[22m\u001b[1mi\u001b[22m\u001b[1mn\u001b[22m\u001b[1md\u001b[22mprev \u001b[1mf\u001b[22m\u001b[1mi\u001b[22m\u001b[1mn\u001b[22m\u001b[1md\u001b[22mnext \u001b[1mf\u001b[22m\u001b[1mi\u001b[22m\u001b[1mn\u001b[22m\u001b[1md\u001b[22mmin!\n",
      "\n"
     ]
    },
    {
     "data": {
      "text/markdown": [
       "```\n",
       "find(f::Function, A)\n",
       "```\n",
       "\n",
       "Return a vector `I` of the linear indexes of `A` where `f(A[I])` returns `true`. If there are no such elements of `A`, find returns an empty array.\n",
       "\n",
       "```jldoctest\n",
       "julia> A = [1 2; 3 4]\n",
       "2×2 Array{Int64,2}:\n",
       " 1  2\n",
       " 3  4\n",
       "\n",
       "julia> find(isodd,A)\n",
       "2-element Array{Int64,1}:\n",
       " 1\n",
       " 2\n",
       "```\n",
       "\n",
       "```\n",
       "find(A)\n",
       "```\n",
       "\n",
       "Return a vector of the linear indexes of the non-zeros in `A` (determined by `A[i]!=0`). A common use of this is to convert a boolean array to an array of indexes of the `true` elements. If there are no non-zero elements of `A`, `find` returns an empty array.\n",
       "\n",
       "```jldoctest\n",
       "julia> A = [true false; false true]\n",
       "2×2 Array{Bool,2}:\n",
       "  true  false\n",
       " false   true\n",
       "\n",
       "julia> find(A)\n",
       "2-element Array{Int64,1}:\n",
       " 1\n",
       " 4\n",
       "```\n"
      ],
      "text/plain": [
       "```\n",
       "find(f::Function, A)\n",
       "```\n",
       "\n",
       "Return a vector `I` of the linear indexes of `A` where `f(A[I])` returns `true`. If there are no such elements of `A`, find returns an empty array.\n",
       "\n",
       "```jldoctest\n",
       "julia> A = [1 2; 3 4]\n",
       "2×2 Array{Int64,2}:\n",
       " 1  2\n",
       " 3  4\n",
       "\n",
       "julia> find(isodd,A)\n",
       "2-element Array{Int64,1}:\n",
       " 1\n",
       " 2\n",
       "```\n",
       "\n",
       "```\n",
       "find(A)\n",
       "```\n",
       "\n",
       "Return a vector of the linear indexes of the non-zeros in `A` (determined by `A[i]!=0`). A common use of this is to convert a boolean array to an array of indexes of the `true` elements. If there are no non-zero elements of `A`, `find` returns an empty array.\n",
       "\n",
       "```jldoctest\n",
       "julia> A = [true false; false true]\n",
       "2×2 Array{Bool,2}:\n",
       "  true  false\n",
       " false   true\n",
       "\n",
       "julia> find(A)\n",
       "2-element Array{Int64,1}:\n",
       " 1\n",
       " 4\n",
       "```\n"
      ]
     },
     "execution_count": 1,
     "metadata": {},
     "output_type": "execute_result"
    }
   ],
   "source": [
    "?find"
   ]
  },
  {
   "cell_type": "code",
   "execution_count": 28,
   "metadata": {
    "collapsed": false
   },
   "outputs": [
    {
     "name": "stderr",
     "output_type": "stream",
     "text": [
      "WARNING: Method definition simplify(Any) in module Main at In[25]:2 overwritten at In[28]:2.\n"
     ]
    },
    {
     "data": {
      "text/plain": [
       "simplify (generic function with 1 method)"
      ]
     },
     "execution_count": 28,
     "metadata": {},
     "output_type": "execute_result"
    }
   ],
   "source": [
    "function simplify(C)\n",
    "    C = copy(C)\n",
    "    num_vars = size(C, 2)\n",
    "    D = eye(num_vars)\n",
    "    for j in size(C, 2):-1:(size(C, 2) - size(C, 1) + 1)\n",
    "        @show C\n",
    "        nonzeros = find(C[:, j])\n",
    "        @assert length(nonzeros) == 1\n",
    "        i = nonzeros[1]\n",
    "        v = C[i, 1:(j - 1)] ./ -C[i, j]\n",
    "        @show v\n",
    "        D = D * [eye(j - 1); v']\n",
    "        @show D\n",
    "        C = C[vcat(1:(i - 1), (i + 1):end), :]\n",
    "        @show C\n",
    "    end\n",
    "    D\n",
    "end\n",
    "    "
   ]
  },
  {
   "cell_type": "code",
   "execution_count": 29,
   "metadata": {
    "collapsed": false
   },
   "outputs": [
    {
     "data": {
      "text/plain": [
       "2×5 Array{Float64,2}:\n",
       " 0.2  0.0  0.1  -1.0   0.0\n",
       " 0.0  0.2  0.0   0.1  -1.0"
      ]
     },
     "execution_count": 29,
     "metadata": {},
     "output_type": "execute_result"
    }
   ],
   "source": [
    "a = 0.1\n",
    "b = 0.2\n",
    "A = [b 0 a -1 0; 0 b 0 a -1]"
   ]
  },
  {
   "cell_type": "code",
   "execution_count": 30,
   "metadata": {
    "collapsed": false
   },
   "outputs": [
    {
     "name": "stdout",
     "output_type": "stream",
     "text": [
      "C = [0.2 0.0 0.1 -1.0 0.0; 0.0 0.2 0.0 0.1 -1.0]\n",
      "v = [0.0,0.2,0.0,0.1]\n",
      "D = [1.0 0.0 0.0 0.0; 0.0 1.0 0.0 0.0; 0.0 0.0 1.0 0.0; 0.0 0.0 0.0 1.0; 0.0 0.2 0.0 0.1]\n",
      "C = [0.2 0.0 0.1 -1.0 0.0]\n",
      "C = [0.2 0.0 0.1 -1.0 0.0]\n",
      "v = [0.2,0.0,0.1]\n",
      "D = [1.0 0.0 0.0; 0.0 1.0 0.0; 0.0 0.0 1.0; 0.2 0.0 0.1; 0.02 0.2 0.01]\n",
      "C = \n"
     ]
    },
    {
     "data": {
      "text/plain": [
       "5×3 Array{Float64,2}:\n",
       " 1.0   0.0  0.0 \n",
       " 0.0   1.0  0.0 \n",
       " 0.0   0.0  1.0 \n",
       " 0.2   0.0  0.1 \n",
       " 0.02  0.2  0.01"
      ]
     },
     "execution_count": 30,
     "metadata": {},
     "output_type": "execute_result"
    }
   ],
   "source": [
    "simplify(A)"
   ]
  },
  {
   "cell_type": "code",
   "execution_count": null,
   "metadata": {
    "collapsed": true
   },
   "outputs": [],
   "source": []
  }
 ],
 "metadata": {
  "kernelspec": {
   "display_name": "Julia 0.5.0",
   "language": "julia",
   "name": "julia-0.5"
  },
  "language_info": {
   "file_extension": ".jl",
   "mimetype": "application/julia",
   "name": "julia",
   "version": "0.5.0"
  }
 },
 "nbformat": 4,
 "nbformat_minor": 1
}
